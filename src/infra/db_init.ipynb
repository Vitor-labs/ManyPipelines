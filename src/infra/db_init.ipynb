{
 "cells": [
  {
   "cell_type": "code",
   "execution_count": 2,
   "metadata": {},
   "outputs": [],
   "source": [
    "import sqlite3"
   ]
  },
  {
   "cell_type": "code",
   "execution_count": 15,
   "metadata": {},
   "outputs": [],
   "source": [
    "def get_local_connection() -> sqlite3.Connection:\n",
    "    \"\"\"\n",
    "    Establishes a connection to the local sqlite database.\n",
    "    \"\"\"\n",
    "    print(\"local database connection in process...\", end=\" \")\n",
    "    try:\n",
    "        conn = sqlite3.connect(\"../../nhtsa_data.sqlite3\")\n",
    "        print(\"Connection Aquired\")\n",
    "        return conn\n",
    "    except sqlite3.IntegrityError as exc:\n",
    "        raise exc\n",
    "    except sqlite3.OperationalError as exc:\n",
    "        raise exc"
   ]
  },
  {
   "cell_type": "code",
   "execution_count": 4,
   "metadata": {},
   "outputs": [],
   "source": [
    "def create_table(sql: str, conn: sqlite3.Connection):\n",
    "    try:\n",
    "        with conn:\n",
    "            conn.cursor().execute(sql)\n",
    "            print(\"table created\")\n",
    "    except sqlite3.IntegrityError as exc:\n",
    "        raise exc\n",
    "    except sqlite3.OperationalError as exc:\n",
    "        raise exc"
   ]
  },
  {
   "cell_type": "code",
   "execution_count": 29,
   "metadata": {},
   "outputs": [
    {
     "name": "stdout",
     "output_type": "stream",
     "text": [
      "local database connection in process... Connection Aquired\n"
     ]
    }
   ],
   "source": [
    "with get_local_connection() as conn:\n",
    "    cursor = conn.execute(\n",
    "        \"\"\"\n",
    "        CREATE TABLE IF NOT EXISTS Warraties (\n",
    "            RECORD_ID INTEGER PRIMARY KEY,\n",
    "            STATUS TEXT,\n",
    "            CLAIM REAL,\n",
    "            FAILURE_MODE TEXT,\n",
    "            CLAIM_TYPE TEXT,\n",
    "            DTCs TEXT, \n",
    "            TIS INTEGER,\n",
    "            ODO INTEGER,\n",
    "            CLAIN_DATA TEXT,\n",
    "            REPAIR_DATE TEXT,\n",
    "            VEHICLE_BUILD_DATE TEXT,\n",
    "            MODEL_YEAR INTEGER,\n",
    "            VEHICLE_TYPE TEXT,\n",
    "            PROPUTION_TYPE TEXT,\n",
    "            CASUAL_BASE TEXT,\n",
    "            MATERIAL_COST REAL,\n",
    "            TOTAL_COST REAL,\n",
    "            PACK_SN TEXT,\n",
    "            ECB_BINNING TEXT,\n",
    "            CREATED_AT TEXT,\n",
    "            MODIFIED_AT TEXT,\n",
    "            REPLACED_PARTS TEXT,\n",
    "            TECHNICAL_COMMENTS TEXT,\n",
    "            CUSTOEMER_COMMENTS TEXT,\n",
    "            DEALER TEXT,\n",
    "            WCC TEXT,\n",
    "            CAUSAL_PREFIX TEXT,\n",
    "            CAUSAL_SUFFIX TEXT,\n",
    "            CCC TEXT,\n",
    "            COND_CODE TEXT,\n",
    "            REGION TEXT,\n",
    "            STATE TEXT,\n",
    "            COUNTRY TEXT,\n",
    "            VFG TEXT,\n",
    "            NOTES TEXT,\n",
    "            AWS_MAINTENANCE_DATE TEXT,\n",
    "            ALIAS TEXT,\n",
    "            CLAIM_STATUS TEXT,\n",
    "            ECB INTEGER,\n",
    "            PACK_BUILD_DATE TEXT,\n",
    "            COUNT_RELATED_COMPONENT INTEGER,\n",
    "            T50$ INTERGER,\n",
    "            T50# INTERGER,\n",
    "            ECB_COMMENTS TEXT,\n",
    "            T50$_STATUS INTEGER,\n",
    "            T50#_STATUS INTEGER,\n",
    "            CUST_IMPACT TEXT,\n",
    "            MATCH_EXEMPT INTEGER,\n",
    "            PRIMARY_DTCS TEXT,\n",
    "            ECB_EXCEPTION INTEGER,\n",
    "            ID_DEL INTEGER,\n",
    "            SYS_EXPORT TEXT,\n",
    "            CREATED_BY TEXT,\n",
    "            MODIFIED_BY TEXT,\n",
    "            KEYWORDS TEXT\n",
    "        );\n",
    "        \"\"\"\n",
    "    )"
   ]
  },
  {
   "cell_type": "code",
   "execution_count": null,
   "metadata": {},
   "outputs": [],
   "source": []
  }
 ],
 "metadata": {
  "kernelspec": {
   "display_name": "SQUAD-Pipelines-QG0wCm1u",
   "language": "python",
   "name": "python3"
  },
  "language_info": {
   "codemirror_mode": {
    "name": "ipython",
    "version": 3
   },
   "file_extension": ".py",
   "mimetype": "text/x-python",
   "name": "python",
   "nbconvert_exporter": "python",
   "pygments_lexer": "ipython3",
   "version": "3.10.10"
  }
 },
 "nbformat": 4,
 "nbformat_minor": 2
}
