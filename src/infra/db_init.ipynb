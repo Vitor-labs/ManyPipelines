{
 "cells": [
  {
   "cell_type": "code",
   "execution_count": 1,
   "metadata": {},
   "outputs": [],
   "source": [
    "import sqlite3"
   ]
  },
  {
   "cell_type": "code",
   "execution_count": 2,
   "metadata": {},
   "outputs": [],
   "source": [
    "def get_local_connection() -> sqlite3.Connection:\n",
    "    \"\"\"\n",
    "    Establishes a connection to the local sqlite database.\n",
    "    \"\"\"\n",
    "    print(\"local database connection in process...\", end=\" \")\n",
    "    try:\n",
    "        conn = sqlite3.connect(\"../../nhtsa_data.sqlite3\")\n",
    "        print(\"Connection Aquired\")\n",
    "        return conn\n",
    "    except sqlite3.IntegrityError as exc:\n",
    "        raise exc\n",
    "    except sqlite3.OperationalError as exc:\n",
    "        raise exc"
   ]
  },
  {
   "cell_type": "code",
   "execution_count": 3,
   "metadata": {},
   "outputs": [],
   "source": [
    "def create_table(sql: str, conn: sqlite3.Connection):\n",
    "    try:\n",
    "        with conn:\n",
    "            conn.cursor().execute(sql)\n",
    "            print(\"table created\")\n",
    "    except sqlite3.IntegrityError as exc:\n",
    "        raise exc\n",
    "    except sqlite3.OperationalError as exc:\n",
    "        raise exc"
   ]
  },
  {
   "cell_type": "code",
   "execution_count": 33,
   "metadata": {},
   "outputs": [
    {
     "name": "stdout",
     "output_type": "stream",
     "text": [
      "local database connection in process... Connection Aquired\n"
     ]
    },
    {
     "ename": "OperationalError",
     "evalue": "near \"TEXT\": syntax error",
     "output_type": "error",
     "traceback": [
      "\u001b[1;31m---------------------------------------------------------------------------\u001b[0m",
      "\u001b[1;31mOperationalError\u001b[0m                          Traceback (most recent call last)",
      "Cell \u001b[1;32mIn[33], line 2\u001b[0m\n\u001b[0;32m      1\u001b[0m \u001b[38;5;28;01mwith\u001b[39;00m get_local_connection() \u001b[38;5;28;01mas\u001b[39;00m conn:\n\u001b[1;32m----> 2\u001b[0m     cursor \u001b[38;5;241m=\u001b[39m \u001b[43mconn\u001b[49m\u001b[38;5;241;43m.\u001b[39;49m\u001b[43mexecute\u001b[49m\u001b[43m(\u001b[49m\n\u001b[0;32m      3\u001b[0m \u001b[38;5;250;43m        \u001b[39;49m\u001b[38;5;124;43;03m\"\"\"\u001b[39;49;00m\n\u001b[0;32m      4\u001b[0m \u001b[38;5;124;43;03mCREATE TABLE IF NOT EXISTS Dim_Complaints (\u001b[39;49;00m\n\u001b[0;32m      5\u001b[0m \u001b[38;5;124;43;03m\tCMPLID INTEGER UNIQUE PRIMARY KEY, -- SEE OTHER COLUMNS FOR PRIMARY KEY\u001b[39;49;00m\n\u001b[0;32m      6\u001b[0m \u001b[38;5;124;43;03m\tODINO INTEGER NOT NULL,\u001b[39;49;00m\n\u001b[0;32m      7\u001b[0m \u001b[38;5;124;43;03m\tMFR_NAME TEXT NOT NULL,\u001b[39;49;00m\n\u001b[0;32m      8\u001b[0m \u001b[38;5;124;43;03m\tMAKETXT TEXT NOT NULL,\u001b[39;49;00m\n\u001b[0;32m      9\u001b[0m \u001b[38;5;124;43;03m\tMODELTXT TEXT NOT NULL,\u001b[39;49;00m\n\u001b[0;32m     10\u001b[0m \u001b[38;5;124;43;03m\tYEARTXT TEXT NOT NULL,\u001b[39;49;00m\n\u001b[0;32m     11\u001b[0m \u001b[38;5;124;43;03m\tFAILDATE TEXT NOT NULL,\u001b[39;49;00m\n\u001b[0;32m     12\u001b[0m \u001b[38;5;124;43;03m\tVIN TEXT NOT NULL,\u001b[39;49;00m\n\u001b[0;32m     13\u001b[0m \u001b[38;5;124;43;03m\tLDATE TEXT NOT NULL,\u001b[39;49;00m\n\u001b[0;32m     14\u001b[0m \u001b[38;5;124;43;03m\tMILES INTEGER,        \u001b[39;49;00m\n\u001b[0;32m     15\u001b[0m \u001b[38;5;124;43;03m\tOCCURENCES INTEGER,\u001b[39;49;00m\n\u001b[0;32m     16\u001b[0m \u001b[38;5;124;43;03m\tCDESCR TEXT NOT NULL, \u001b[39;49;00m\n\u001b[0;32m     17\u001b[0m \u001b[38;5;124;43;03m\tCOMPONET TEXT,\u001b[39;49;00m\n\u001b[0;32m     18\u001b[0m \u001b[38;5;124;43;03m\tFAILURE TEXT,\u001b[39;49;00m\n\u001b[0;32m     19\u001b[0m \u001b[38;5;124;43;03m\tBINNING TEXT,\u001b[39;49;00m\n\u001b[0;32m     20\u001b[0m \u001b[38;5;124;43;03m\tFAIL_QUARTER TEXT NOT NULL,            \u001b[39;49;00m\n\u001b[0;32m     21\u001b[0m \u001b[38;5;124;43;03m\tFULL_VIN UNIQUE TEXT,                 \u001b[39;49;00m\n\u001b[0;32m     22\u001b[0m \u001b[38;5;124;43;03m\tPROD_DATE TEXT,                \u001b[39;49;00m\n\u001b[0;32m     23\u001b[0m \u001b[38;5;124;43;03m\tVFG TEXT, \u001b[39;49;00m\n\u001b[0;32m     24\u001b[0m \u001b[38;5;124;43;03m\tVehicle_Line_WERS TEXT,        \u001b[39;49;00m\n\u001b[0;32m     25\u001b[0m \u001b[38;5;124;43;03m\tVehicle_Line_GSAR TEXT,       \u001b[39;49;00m\n\u001b[0;32m     26\u001b[0m \u001b[38;5;124;43;03m\tVehicle_Line_Global TEXT,      \u001b[39;49;00m\n\u001b[0;32m     27\u001b[0m \u001b[38;5;124;43;03m\tAssembly_Plant TEXT,           \u001b[39;49;00m\n\u001b[0;32m     28\u001b[0m \u001b[38;5;124;43;03m\tWarranty_Start_Date TEXT,\u001b[39;49;00m\n\u001b[0;32m     29\u001b[0m \u001b[38;5;124;43;03m\tEXTRACTED_DATE TEXT NOT NULL\u001b[39;49;00m\n\u001b[0;32m     30\u001b[0m \u001b[38;5;124;43;03m\t\tCHECK(length(EXTRACTED_DATE) == 10), \u001b[39;49;00m\n\u001b[0;32m     31\u001b[0m \u001b[38;5;124;43;03m\tFAILURE_MODE TEXT NOT NULL,\u001b[39;49;00m\n\u001b[0;32m     32\u001b[0m \u001b[38;5;124;43;03m\tMileage_Class TEXT NOT NULL,\u001b[39;49;00m\n\u001b[0;32m     33\u001b[0m \n\u001b[0;32m     34\u001b[0m \u001b[38;5;124;43;03m\t-- Foreign keys definitions\u001b[39;49;00m\n\u001b[0;32m     35\u001b[0m \u001b[38;5;124;43;03m\tLOCATION_ID INTEGER,\u001b[39;49;00m\n\u001b[0;32m     36\u001b[0m \u001b[38;5;124;43;03m\tFOREIGN KEY (LOCATION_ID) REFERENCES\u001b[39;49;00m\n\u001b[0;32m     37\u001b[0m \u001b[38;5;124;43;03m\t\tDim_Location (LOCATION_ID)\u001b[39;49;00m\n\u001b[0;32m     38\u001b[0m \u001b[38;5;124;43;03m\t\t\tON UPDATE CASCADE\u001b[39;49;00m\n\u001b[0;32m     39\u001b[0m \u001b[38;5;124;43;03m\t      \tON DELETE SET NULL;\u001b[39;49;00m\n\u001b[0;32m     40\u001b[0m \n\u001b[0;32m     41\u001b[0m \u001b[38;5;124;43;03m\tGRID_ID INTEGER,\u001b[39;49;00m\n\u001b[0;32m     42\u001b[0m \u001b[38;5;124;43;03m\tFOREIGN KEY (GRID_ID)\u001b[39;49;00m\n\u001b[0;32m     43\u001b[0m \u001b[38;5;124;43;03m\t\tREFERENCES Dim_Grid (GRID_ID)\u001b[39;49;00m\n\u001b[0;32m     44\u001b[0m \u001b[38;5;124;43;03m\t\t\tON UPDATE CASCADE\u001b[39;49;00m\n\u001b[0;32m     45\u001b[0m \u001b[38;5;124;43;03m\t\t\tON DELETE SET NULL;\u001b[39;49;00m\n\u001b[0;32m     46\u001b[0m \n\u001b[0;32m     47\u001b[0m \u001b[38;5;124;43;03m\tRECALL_ID TEXT, \t\t\t--VERIFY RELATIONSHIPS BETWEEN TABLES\u001b[39;49;00m\n\u001b[0;32m     48\u001b[0m \u001b[38;5;124;43;03m\tFOREIGN KEY (RECALL_ID)\u001b[39;49;00m\n\u001b[0;32m     49\u001b[0m \u001b[38;5;124;43;03m\t\tREFERENCES Dim_Recalls (RECALL_ID)\u001b[39;49;00m\n\u001b[0;32m     50\u001b[0m \u001b[38;5;124;43;03m\t\t\tON UPDATE CASCADE\u001b[39;49;00m\n\u001b[0;32m     51\u001b[0m \u001b[38;5;124;43;03m\t\t\tON DELETE SET NULL;\u001b[39;49;00m\n\u001b[0;32m     52\u001b[0m \n\u001b[0;32m     53\u001b[0m \u001b[38;5;124;43;03m\tWARRANTIES_ID INTEGER,\t\t--VERIFY RELATIONSHIPS BETWEEN TABLES\u001b[39;49;00m\n\u001b[0;32m     54\u001b[0m \u001b[38;5;124;43;03m\tFOREIGN KEY (WARRANTIES_ID)\u001b[39;49;00m\n\u001b[0;32m     55\u001b[0m \u001b[38;5;124;43;03m\t\tREFERENCES Dim_Warraties (WARRANTIES_ID)\u001b[39;49;00m\n\u001b[0;32m     56\u001b[0m \u001b[38;5;124;43;03m\t\t\tON UPDATE CASCADE\u001b[39;49;00m\n\u001b[0;32m     57\u001b[0m \u001b[38;5;124;43;03m\t\t\tON DELETE SET NULL;\u001b[39;49;00m\n\u001b[0;32m     58\u001b[0m \u001b[38;5;124;43;03m) WITHOUT ROWID;\u001b[39;49;00m\n\u001b[0;32m     59\u001b[0m \u001b[38;5;124;43;03m        \"\"\"\u001b[39;49;00m\n\u001b[0;32m     60\u001b[0m \u001b[43m    \u001b[49m\u001b[43m)\u001b[49m\n",
      "\u001b[1;31mOperationalError\u001b[0m: near \"TEXT\": syntax error"
     ]
    }
   ],
   "source": [
    "with get_local_connection() as conn:\n",
    "    cursor = conn.execute(\n",
    "        \"\"\"\n",
    "CREATE TABLE IF NOT EXISTS Dim_Complaints (\n",
    "\tCMPLID INTEGER UNIQUE PRIMARY KEY, -- SEE OTHER COLUMNS FOR PRIMARY KEY\n",
    "\tODINO INTEGER NOT NULL,\n",
    "\tMFR_NAME TEXT NOT NULL,\n",
    "\tMAKETXT TEXT NOT NULL,\n",
    "\tMODELTXT TEXT NOT NULL,\n",
    "\tYEARTXT TEXT NOT NULL,\n",
    "\tFAILDATE TEXT NOT NULL,\n",
    "\tVIN TEXT NOT NULL,\n",
    "\tLDATE TEXT NOT NULL,\n",
    "\tMILES INTEGER,        \n",
    "\tOCCURENCES INTEGER,\n",
    "\tCDESCR TEXT NOT NULL, \n",
    "\tCOMPONET TEXT,\n",
    "\tFAILURE TEXT,\n",
    "\tBINNING TEXT\n",
    "        CHECK(length(BINNING) = length(COMPONET) + length(FAILURE) + 3),\n",
    "\tFAIL_QUARTER TEXT NOT NULL,            \n",
    "\tFULL_VIN UNIQUE TEXT,                 \n",
    "\tPROD_DATE TEXT,                \n",
    "\tVFG TEXT, \n",
    "\tVehicle_Line_WERS TEXT,        \n",
    "\tVehicle_Line_GSAR TEXT,       \n",
    "\tVehicle_Line_Global TEXT,      \n",
    "\tAssembly_Plant TEXT,           \n",
    "\tWarranty_Start_Date TEXT,\n",
    "\tEXTRACTED_DATE TEXT NOT NULL\n",
    "\t\tCHECK(length(EXTRACTED_DATE) == 10), \n",
    "\tFAILURE_MODE TEXT NOT NULL,\n",
    "\tMileage_Class TEXT NOT NULL,\n",
    "\n",
    "\t-- Foreign keys definitions\n",
    "\tLOCATION_ID INTEGER,\n",
    "\tFOREIGN KEY (LOCATION_ID) REFERENCES\n",
    "\t\tDim_Location (LOCATION_ID)\n",
    "\t\t\tON UPDATE CASCADE\n",
    "\t      \tON DELETE SET NULL;\n",
    "\n",
    "\tGRID_ID INTEGER,\n",
    "\tFOREIGN KEY (GRID_ID)\n",
    "\t\tREFERENCES Dim_Grid (GRID_ID)\n",
    "\t\t\tON UPDATE CASCADE\n",
    "\t\t\tON DELETE SET NULL;\n",
    "\n",
    "\tRECALL_ID TEXT, \t\t\t--VERIFY RELATIONSHIPS BETWEEN TABLES\n",
    "\tFOREIGN KEY (RECALL_ID)\n",
    "\t\tREFERENCES Dim_Recalls (RECALL_ID)\n",
    "\t\t\tON UPDATE CASCADE\n",
    "\t\t\tON DELETE SET NULL;\n",
    "\n",
    "\tWARRANTIES_ID INTEGER,\t\t--VERIFY RELATIONSHIPS BETWEEN TABLES\n",
    "\tFOREIGN KEY (WARRANTIES_ID)\n",
    "\t\tREFERENCES Dim_Warraties (WARRANTIES_ID)\n",
    "\t\t\tON UPDATE CASCADE\n",
    "\t\t\tON DELETE SET NULL;\n",
    ") WITHOUT ROWID;\n",
    "        \"\"\"\n",
    "    )"
   ]
  },
  {
   "cell_type": "code",
   "execution_count": null,
   "metadata": {},
   "outputs": [],
   "source": []
  }
 ],
 "metadata": {
  "kernelspec": {
   "display_name": "SQUAD-Pipelines-QG0wCm1u",
   "language": "python",
   "name": "python3"
  },
  "language_info": {
   "codemirror_mode": {
    "name": "ipython",
    "version": 3
   },
   "file_extension": ".py",
   "mimetype": "text/x-python",
   "name": "python",
   "nbconvert_exporter": "python",
   "pygments_lexer": "ipython3",
   "version": "3.10.10"
  }
 },
 "nbformat": 4,
 "nbformat_minor": 2
}
