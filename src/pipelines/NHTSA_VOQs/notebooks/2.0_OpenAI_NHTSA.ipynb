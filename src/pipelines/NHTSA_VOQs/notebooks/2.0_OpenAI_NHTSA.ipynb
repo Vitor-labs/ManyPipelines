{
 "cells": [
  {
   "cell_type": "code",
   "execution_count": 27,
   "id": "9b0efb9e",
   "metadata": {},
   "outputs": [],
   "source": [
    "import os\n",
    "import requests\n",
    "import pandas as pd\n",
    "from functools import lru_cache"
   ]
  },
  {
   "cell_type": "code",
   "execution_count": 2,
   "id": "73d63e11",
   "metadata": {},
   "outputs": [],
   "source": [
    "token_endpoint = str(os.getenv('TOKEN_ENDPOINT'))\n",
    "api_host = str(os.getenv('API_HOST'))\n",
    "api_endpoint = str(os.getenv('API_ENDPOINT'))\n",
    "proxy_endpoint = str(os.getenv('FORD_PROXY'))\n",
    "scope = str(os.getenv('SCOPE'))\n",
    "client_id = str(os.getenv('CLIENT_ID'))\n",
    "client_secret = str(os.getenv('CLIENT_SECRET'))\n",
    "\n",
    "os.environ['HTTP_PROXY'] = proxy_endpoint\n",
    "os.environ['HTTPS_PROXY'] = proxy_endpoint\n",
    "os.environ['NO_PROXY'] = api_host"
   ]
  },
  {
   "cell_type": "code",
   "execution_count": 21,
   "id": "3a6db2ba",
   "metadata": {},
   "outputs": [
    {
     "name": "stdout",
     "output_type": "stream",
     "text": [
      "token expires in: 60.0 minutes\n"
     ]
    }
   ],
   "source": [
    "def get_token():\n",
    "    response = requests.post(\n",
    "        token_endpoint, \n",
    "        data={\n",
    "            \"client_id\": client_id,\n",
    "            \"client_secret\": client_secret,\n",
    "            \"scope\": scope,\n",
    "            \"grant_type\": \"client_credentials\"\n",
    "        }\n",
    "    )\n",
    "    print('token expires in:',round(int(response.json()['expires_in']) / 60, 0), 'minutes')\n",
    "    return response.json()['access_token']\n",
    "\n",
    "def load_categories():\n",
    "    categories = []\n",
    "    with open(\"../data/external/binnings.txt\", encoding=\"utf-8\", mode=\"r\") as file:\n",
    "        for line in file.readlines():\n",
    "            categories.append(line.strip(\"\\n\"))\n",
    "\n",
    "    return frozenset(categories)\n",
    "\n",
    "token = get_token()"
   ]
  },
  {
   "cell_type": "code",
   "execution_count": 22,
   "id": "a5a45978",
   "metadata": {},
   "outputs": [],
   "source": [
    "@lru_cache(maxsize=70)\n",
    "def call_api_movement(token, complaint, categories):\n",
    "    parts = (\n",
    "        \"door, window, windshield, wiper, glass, hood, trunk, moonroof, \"\n",
    "        + \"bumper, tail light, pillar, undershield, roof rack, latch, he\"\n",
    "        + \"adlight, door handle, door keypad, window, weatherstripping, \"\n",
    "        + \"side mirror, lighting, swing gate, cowl grille, hard top, ski\"\n",
    "        + \"d plate, sheet metal, running boards, water leak, etc)\"\n",
    "    )    \n",
    "    prompt = (\n",
    "        f\"{complaint}\"\n",
    "        \"Question 1: For this complaint, check if it is related to an ex\"\n",
    "        + f\"ternal part of the car, body exterior, ({parts}). If ye\"\n",
    "        + \"s, answer 'F8'. Otherwise, answer 'NOT F8'. Note that most of\"\n",
    "        + \"the problems related to power liftgate electrical problems an\"\n",
    "        + \"d rear view camera are NOT F8. Question 2: For each of these \"\n",
    "        + \"sentences that your answer 1 was 'F8', check if it is related\"\n",
    "        + f\"to only one of the following categories: {list(categories)}.\"\n",
    "        + \" You should give only one answer with one answer for Question\"\n",
    "        + \" 1 and one answer for Question 2 in the following format: 'AN\"\n",
    "        + \"SWER 1~~~ANSWER 2'. Note: 'OWD' means 'opened while driving' \"\n",
    "        + \"and 'F&F' means 'fit and finish', for problems related to flu\"\n",
    "        + \"shness and margin. Note 2: For model Escape (2020 forward), t\"\n",
    "        + \"here is a common problem related to door check arm when the c\"\n",
    "        + \"omplaint is related to the door making popping sounds, openin\"\n",
    "        + \"g and closing problens, hinges and welds. If you cannot relat\"\n",
    "        + \"e, answer NOT SURE. Answer in the correct order. If you canno\"\n",
    "        + \"t assist, answer 1, and answer 2 must be NA. You should be ob\"\n",
    "        + \"jective and cold. Never change the answer format mentioned.\"\n",
    "        )\n",
    "    \n",
    "    contexto = \"You are a helpful text reader and analyzer. You need to give me 2 answers. \" + prompt\n",
    "    \n",
    "    # https://platform.openai.com/docs/guides/prompt-engineering/six-strategies-for-getting-better-results\n",
    "    response = requests.post(\n",
    "        api_endpoint,\n",
    "        headers={\"Authorization\": f\"Bearer {token}\"},\n",
    "        json={\n",
    "            \"model\": \"gpt-4\",\n",
    "            \"context\": contexto, # sets the overall behavior of the assistant.\n",
    "            \"messages\": \n",
    "            [{\n",
    "                \"role\": \"user\",\n",
    "                \"content\": prompt\n",
    "            }],\n",
    "            \"parameters\": \n",
    "            {\n",
    "                \"temperature\": 0.05, # Determines the randomnes of the model's response. A value of 0 is mostly deterministic.\n",
    "                #\"maxOutputTokens\": 65,\n",
    "            }\n",
    "        }\n",
    "    )\n",
    "    return response.json()['content']"
   ]
  },
  {
   "cell_type": "code",
   "execution_count": null,
   "id": "9388f3f3",
   "metadata": {},
   "outputs": [],
   "source": [
    "df = pd.read_excel('../data/external/nhtsa_binned_data_test.xlsx')\n",
    "\n",
    "categories = list(load_categories())\n",
    "\n",
    "for idx, row in enumerate(df.itertuples(index=False), start=2):\n",
    "    decription = f\"model {str(row[2])} of year {str(row[3])} {str(row[0])}\"\n",
    "    response = call_api_movement(token, decription, categories) # type: ignore\n",
    "    if response == 'F8~~~'+row[1]:\n",
    "        print(idx,\"OK\")\n",
    "        continue\n",
    "    print(response)"
   ]
  }
 ],
 "metadata": {
  "kernelspec": {
   "display_name": "Python 3",
   "language": "python",
   "name": "python3"
  },
  "language_info": {
   "codemirror_mode": {
    "name": "ipython",
    "version": 3
   },
   "file_extension": ".py",
   "mimetype": "text/x-python",
   "name": "python",
   "nbconvert_exporter": "python",
   "pygments_lexer": "ipython3",
   "version": "3.10.11"
  }
 },
 "nbformat": 4,
 "nbformat_minor": 5
}
