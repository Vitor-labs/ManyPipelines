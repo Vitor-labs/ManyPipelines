{
 "cells": [
  {
   "cell_type": "code",
   "execution_count": 12,
   "id": "9b0efb9e",
   "metadata": {},
   "outputs": [],
   "source": [
    "import os\n",
    "import time\n",
    "import logging\n",
    "from typing import Dict, List\n",
    "from functools import lru_cache\n",
    "\n",
    "import httpx\n",
    "import pandas as pd"
   ]
  },
  {
   "cell_type": "code",
   "execution_count": 2,
   "id": "73d63e11",
   "metadata": {},
   "outputs": [],
   "source": [
    "token_endpoint = str(os.getenv(\"TOKEN_ENDPOINT\"))\n",
    "api_host = str(os.getenv(\"API_HOST\"))\n",
    "api_endpoint = str(os.getenv(\"API_ENDPOINT\"))\n",
    "proxy_endpoint = str(os.getenv(\"FORD_PROXY\"))\n",
    "scope = str(os.getenv(\"SCOPE\"))\n",
    "client_id = str(os.getenv(\"CLIENT_ID\"))\n",
    "client_secret = str(os.getenv(\"CLIENT_SECRET\"))\n",
    "\n",
    "os.environ[\"HTTP_PROXY\"] = proxy_endpoint\n",
    "os.environ[\"HTTPS_PROXY\"] = proxy_endpoint\n",
    "os.environ[\"NO_PROXY\"] = api_host"
   ]
  },
  {
   "cell_type": "code",
   "execution_count": 13,
   "id": "9ebedf56",
   "metadata": {},
   "outputs": [],
   "source": [
    "def create_client() -> httpx.Client:\n",
    "    \"\"\"\n",
    "    Creates a common client for future http requests\n",
    "\n",
    "    Returns:\n",
    "        httpx.Client: client with ford proxies\n",
    "    \"\"\"\n",
    "    ford_proxy = str(os.getenv(\"FORD_PROXY\"))\n",
    "    timeout_config = httpx.Timeout(10.0, connect=5.0)\n",
    "    proxy_mounts = {\n",
    "        \"http://\": httpx.HTTPTransport(proxy=httpx.Proxy(ford_proxy)),\n",
    "        \"https://\": httpx.HTTPTransport(proxy=httpx.Proxy(ford_proxy)),\n",
    "    }\n",
    "    return httpx.Client(\n",
    "        timeout=timeout_config,\n",
    "        mounts=proxy_mounts,\n",
    "        verify=False,\n",
    "    )"
   ]
  },
  {
   "cell_type": "code",
   "execution_count": 21,
   "id": "3a6db2ba",
   "metadata": {},
   "outputs": [
    {
     "name": "stdout",
     "output_type": "stream",
     "text": [
      "token expires in: 60.0 minutes\n"
     ]
    }
   ],
   "source": [
    "def get_token():\n",
    "    with create_client() as client:\n",
    "        response = client.post(\n",
    "            str(os.getenv(\"TOKEN_ENDPOINT\")),\n",
    "            data={\n",
    "                \"client_id\": str(os.getenv(\"CLIENT_ID\")),\n",
    "                \"client_secret\": str(os.getenv(\"CLIENT_SECRET\")),\n",
    "                \"scope\": str(os.getenv(\"SCOPE\")),\n",
    "                \"grant_type\": \"client_credentials\",\n",
    "            },\n",
    "            timeout=160,\n",
    "        )\n",
    "    print(\n",
    "        \"token expires in:\",\n",
    "        round(int(response.json()[\"expires_in\"]) / 60, 0),\n",
    "        \"minutes\",\n",
    "    )\n",
    "    return response.json()[\"access_token\"]\n",
    "\n",
    "\n",
    "def load_categories():\n",
    "    categories = []\n",
    "    with open(\"./binnings.txt\", encoding=\"utf-8\", mode=\"r\") as file:\n",
    "        for line in file.readlines():\n",
    "            categories.append(line.strip(\"\\n\"))\n",
    "\n",
    "    return frozenset(categories)\n",
    "\n",
    "\n",
    "token = get_token()"
   ]
  },
  {
   "cell_type": "code",
   "execution_count": 15,
   "id": "a5a45978",
   "metadata": {},
   "outputs": [],
   "source": [
    "@lru_cache(maxsize=70)\n",
    "def call_api_movement(token, complaint, categories):\n",
    "    parts = (\n",
    "        \"door, window, windshield, wiper, glass, hood, trunk, moonroof, \"\n",
    "        + \"bumper, tail light, pillar, undershield, roof rack, latch, he\"\n",
    "        + \"adlight, door handle, door keypad, window, weatherstripping, \"\n",
    "        + \"side mirror, lighting, swing gate, cowl grille, hard top, ski\"\n",
    "        + \"d plate, sheet metal, running boards, water leak, etc)\"\n",
    "    )\n",
    "    prompt = (\n",
    "        f\"{complaint}\"\n",
    "        \"Question 1: For this complaint, check if it is related to an ex\"\n",
    "        + f\"ternal part of the car, body exterior, ({parts}). If ye\"\n",
    "        + \"s, answer 'F8'. Otherwise, answer 'NOT F8'. Note that most of\"\n",
    "        + \"the problems related to power liftgate electrical problems an\"\n",
    "        + \"d rear view camera are NOT F8. Question 2: For each of these \"\n",
    "        + \"sentences that your answer 1 was 'F8', check if it is related\"\n",
    "        + f\"to only one of the following categories: {list(categories)}.\"\n",
    "        + \" You should give only one answer with one answer for Question\"\n",
    "        + \" 1 and one answer for Question 2 in the following format: 'AN\"\n",
    "        + \"SWER 1~~~ANSWER 2'. Note: 'OWD' means 'opened while driving' \"\n",
    "        + \"and 'F&F' means 'fit and finish', for problems related to flu\"\n",
    "        + \"shness and margin. Note 2: For model Escape (2020 forward), t\"\n",
    "        + \"here is a common problem related to door check arm when the c\"\n",
    "        + \"omplaint is related to the door making popping sounds, openin\"\n",
    "        + \"g and closing problens, hinges and welds. If you cannot relat\"\n",
    "        + \"e, answer NOT SURE. Answer in the correct order. If you canno\"\n",
    "        + \"t assist, answer 1, and answer 2 must be NA. You should be ob\"\n",
    "        + \"jective and cold. Never change the answer format mentioned.\"\n",
    "    )\n",
    "    content = {\n",
    "        \"model\": \"gpt-4\",\n",
    "        \"context\": (\n",
    "            \"You are a helpful text reader and analyzer. You need to give me 2 answers.\"\n",
    "        ),  # sets the overall behavior of the assistant.\n",
    "        \"messages\": [{\"role\": \"user\", \"content\": prompt}],\n",
    "        \"parameters\": {\n",
    "            \"temperature\": 0.05,  # Determines the randomnes of the model's response.\n",
    "        },\n",
    "    }\n",
    "    with create_client() as client:\n",
    "        response = client.post(\n",
    "            api_endpoint,\n",
    "            headers={\"Authorization\": f\"Bearer {token}\"},\n",
    "            json=content,\n",
    "            timeout=360,\n",
    "        )\n",
    "    return response.json()[\"content\"]"
   ]
  },
  {
   "cell_type": "code",
   "execution_count": 24,
   "id": "9388f3f3",
   "metadata": {},
   "outputs": [
    {
     "ename": "TypeError",
     "evalue": "unhashable type: 'list'",
     "output_type": "error",
     "traceback": [
      "\u001b[1;31m---------------------------------------------------------------------------\u001b[0m",
      "\u001b[1;31mTypeError\u001b[0m                                 Traceback (most recent call last)",
      "Cell \u001b[1;32mIn[24], line 7\u001b[0m\n\u001b[0;32m      5\u001b[0m \u001b[38;5;28;01mfor\u001b[39;00m idx, row \u001b[38;5;129;01min\u001b[39;00m \u001b[38;5;28menumerate\u001b[39m(df\u001b[38;5;241m.\u001b[39mitertuples(index\u001b[38;5;241m=\u001b[39m\u001b[38;5;28;01mFalse\u001b[39;00m), start\u001b[38;5;241m=\u001b[39m\u001b[38;5;241m2\u001b[39m):\n\u001b[0;32m      6\u001b[0m     decription \u001b[38;5;241m=\u001b[39m \u001b[38;5;124mf\u001b[39m\u001b[38;5;124m\"\u001b[39m\u001b[38;5;124mmodel \u001b[39m\u001b[38;5;132;01m{\u001b[39;00m\u001b[38;5;28mstr\u001b[39m(row[\u001b[38;5;241m2\u001b[39m])\u001b[38;5;132;01m}\u001b[39;00m\u001b[38;5;124m of year \u001b[39m\u001b[38;5;132;01m{\u001b[39;00m\u001b[38;5;28mstr\u001b[39m(row[\u001b[38;5;241m3\u001b[39m])\u001b[38;5;132;01m}\u001b[39;00m\u001b[38;5;124m \u001b[39m\u001b[38;5;132;01m{\u001b[39;00m\u001b[38;5;28mstr\u001b[39m(row[\u001b[38;5;241m21\u001b[39m])\u001b[38;5;132;01m}\u001b[39;00m\u001b[38;5;124m\"\u001b[39m\n\u001b[1;32m----> 7\u001b[0m     response \u001b[38;5;241m=\u001b[39m \u001b[43mcall_api_movement\u001b[49m\u001b[43m(\u001b[49m\u001b[43mtoken\u001b[49m\u001b[43m,\u001b[49m\u001b[43m \u001b[49m\u001b[43mdecription\u001b[49m\u001b[43m,\u001b[49m\u001b[43m \u001b[49m\u001b[43mcategories\u001b[49m\u001b[43m)\u001b[49m  \u001b[38;5;66;03m# type: ignore\u001b[39;00m\n\u001b[0;32m      8\u001b[0m     \u001b[38;5;28;01mif\u001b[39;00m response \u001b[38;5;241m==\u001b[39m \u001b[38;5;124m\"\u001b[39m\u001b[38;5;124mF8~~~\u001b[39m\u001b[38;5;124m\"\u001b[39m \u001b[38;5;241m+\u001b[39m row[\u001b[38;5;241m1\u001b[39m]:\n\u001b[0;32m      9\u001b[0m         \u001b[38;5;28mprint\u001b[39m(idx, \u001b[38;5;124m\"\u001b[39m\u001b[38;5;124mOK\u001b[39m\u001b[38;5;124m\"\u001b[39m)\n",
      "\u001b[1;31mTypeError\u001b[0m: unhashable type: 'list'"
     ]
    }
   ],
   "source": [
    "categories = list(load_categories())\n",
    "df = pd.read_csv(\"./mock_complaints.csv\")\n",
    "\n",
    "\n",
    "\n",
    "for idx, row in enumerate(df.itertuples(index=False), start=2):\n",
    "\n",
    "    decription = f\"model {str(row[2])} of year {str(row[3])} {str(row[21])}\"\n",
    "\n",
    "\n",
    "    response = call_api_movement(token, decription, categories)  # type: ignore\n",
    "\n",
    "    if response == \"F8~~~\" + row[1]:\n",
    "\n",
    "\n",
    "        print(idx, \"OK\")\n",
    "\n",
    "\n",
    "        continue\n",
    "    print(response)"
   ]
  }
 ],
 "metadata": {
  "kernelspec": {
   "display_name": "Python 3",
   "language": "python",
   "name": "python3"
  },
  "language_info": {
   "codemirror_mode": {
    "name": "ipython",
    "version": 3
   },
   "file_extension": ".py",
   "mimetype": "text/x-python",
   "name": "python",
   "nbconvert_exporter": "python",
   "pygments_lexer": "ipython3",
   "version": "3.10.11"
  }
 },
 "nbformat": 4,
 "nbformat_minor": 5
}
