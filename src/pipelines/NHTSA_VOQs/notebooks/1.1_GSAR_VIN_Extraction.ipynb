{
 "cells": [
  {
   "cell_type": "code",
   "execution_count": 1,
   "metadata": {},
   "outputs": [],
   "source": [
    "import os\n",
    "import asyncio\n",
    "import httpx\n",
    "import pandas as pd\n",
    "\n",
    "# MADE BY VICTOR DUARTE. VDUART10\n",
    "base_url = \"https://www.gsar.ford.com/onlinereports/be/getVehInfoFull\""
   ]
  },
  {
   "cell_type": "code",
   "execution_count": 4,
   "metadata": {},
   "outputs": [
    {
     "data": {
      "text/plain": [
       "<Response [401 Unauthorized]>"
      ]
     },
     "execution_count": 4,
     "metadata": {},
     "output_type": "execute_result"
    }
   ],
   "source": [
    "URL = \"https://corp.sts.ford.com/adfs/oauth2/authorize/wia\"\n",
    "params = {\n",
    "    \"client_id\": \"urn:gsar:clientid:web:prod\",\n",
    "    \"response_type\": \"token id_token\",\n",
    "    \"redirect_uri\": \"https://www.gsar.ford.com/oauth-callback/\",\n",
    "    \"resource\": \"urn:gsar:resource:web:prod\",\n",
    "    \"client-request-id\": \"c79b8f43-a1cb-472c-1627-0080030000ca\",\n",
    "    \"RedirectToIdentityProvider\": \"AD AUTHORITY\",\n",
    "}\n",
    "response = httpx.get(URL, params=params)\n",
    "response"
   ]
  },
  {
   "cell_type": "code",
   "execution_count": null,
   "metadata": {},
   "outputs": [],
   "source": [
    "def create_client() -> httpx.AsyncClient:\n",
    "    \"\"\"\n",
    "    Creates a common client for future http requests\n",
    "\n",
    "    Returns:\n",
    "        httpx.Client: client with ford proxies\n",
    "    \"\"\"\n",
    "    limits = httpx.Limits(max_connections=8)\n",
    "    ford_proxy = str(os.getenv(\"FORD_PROXY\"))\n",
    "    timeout_config = httpx.Timeout(10.0, connect=5.0, pool=4.0)\n",
    "    proxy_mounts = {\n",
    "        \"http://\": httpx.AsyncHTTPTransport(\n",
    "            proxy=httpx.Proxy(ford_proxy), limits=limits, retries=3\n",
    "        ),\n",
    "        \"https://\": httpx.AsyncHTTPTransport(\n",
    "            proxy=httpx.Proxy(ford_proxy), limits=limits, retries=3\n",
    "        ),\n",
    "    }\n",
    "    return httpx.AsyncClient(\n",
    "        timeout=timeout_config,\n",
    "        mounts=proxy_mounts,\n",
    "        verify=False,\n",
    "    )"
   ]
  },
  {
   "cell_type": "code",
   "execution_count": null,
   "metadata": {},
   "outputs": [],
   "source": [
    "async def get_info_by_vin(\n",
    "    vin: str, client: httpx.AsyncClient, token: str, semaphore: asyncio.Semaphore\n",
    "):\n",
    "    keys = [\"prodDate\", \"plant\", \"FuelType\", \"FuelTypeEng\"]\n",
    "    retrived = dict.fromkeys(keys, \"\")\n",
    "    async with semaphore:\n",
    "        response = await client.get(\n",
    "            base_url,\n",
    "            params={\"vin\": vin},\n",
    "            headers={\n",
    "                \"Authorization\": f\"Bearer {token}\",\n",
    "            },\n",
    "        )\n",
    "    data = dict(response.json())\n",
    "    for key in keys:\n",
    "        if key in data:\n",
    "            retrived[key] = str(data.get(key))\n",
    "    print(retrived)\n",
    "    return list(retrived.values())"
   ]
  },
  {
   "cell_type": "code",
   "execution_count": null,
   "metadata": {},
   "outputs": [],
   "source": [
    "vins_df = pd.read_excel(\"./search.xlsx\")  # 29750\n",
    "semaphore = asyncio.Semaphore(70)  # need to test with 70 instances\n",
    "token = \"eyJ0eXAiOiJKV1QiLCJhbGciOiJSUzI1NiIsIng1dCI6ImFSZ2hZU01kbXI2RFZpMTdWVVJtLUJlUENuayJ9.eyJhdWQiOiJ1cm46Z3NhcjpyZXNvdXJjZTp3ZWI6cHJvZCIsImlzcyI6Imh0dHBzOi8vY29ycC5zdHMuZm9yZC5jb20vYWRmcy9zZXJ2aWNlcy90cnVzdCIsImlhdCI6MTcwODk1NTg5NywiZXhwIjoxNzA4OTg0Njk3LCJDb21tb25OYW1lIjoiVkRVQVJUMTAiLCJzdWIiOiJWRFVBUlQxMCIsInVpZCI6InZkdWFydDEwIiwiZm9yZEJ1c2luZXNzVW5pdENvZGUiOiJGU0FNUiIsImdpdmVuTmFtZSI6IlZpY3RvciIsInNuIjoiRHVhcnRlIiwiaW5pdGlhbHMiOiJWLiIsIm1haWwiOiJ2ZHVhcnQxMEBmb3JkLmNvbSIsImVtcGxveWVlVHlwZSI6Ik0iLCJzdCI6IkJBIiwiYyI6IkJSQSIsImZvcmRDb21wYW55TmFtZSI6IklOU1QgRVVWQUxETyBMT0RJIE4gUkVHSU9OQUwgQkFISUEiLCJmb3JkRGVwdENvZGUiOiIwNjY0Nzg0MDAwIiwiZm9yZERpc3BsYXlOYW1lIjoiRHVhcnRlLCBWaWN0b3IgKFYuKSIsImZvcmREaXZBYmJyIjoiUFJEIiwiZm9yZERpdmlzaW9uIjoiUEQgT3BlcmF0aW9ucyBhbmQgUXVhbGl0eSIsImZvcmRDb21wYW55Q29kZSI6IjAwMDE1ODM4IiwiZm9yZE1hbmFnZXJDZHNpZCI6Im1tYWdyaTEiLCJmb3JkTVJSb2xlIjoiTiIsImZvcmRTaXRlQ29kZSI6IjY1MzYiLCJmb3JkVXNlclR5cGUiOiJFbXBsb3llZSIsImFwcHR5cGUiOiJQdWJsaWMiLCJhcHBpZCI6InVybjpnc2FyOmNsaWVudGlkOndlYjpwcm9kIiwiYXV0aG1ldGhvZCI6Imh0dHA6Ly9zY2hlbWFzLm1pY3Jvc29mdC5jb20vd3MvMjAwOC8wNi9pZGVudGl0eS9hdXRoZW50aWNhdGlvbm1ldGhvZC93aW5kb3dzIiwiYXV0aF90aW1lIjoiMjAyNC0wMi0yNlQxMzowNzozNS4yOTVaIiwidmVyIjoiMS4wIn0.r9Zsg9-TBBhgeiNq6Q083QXTQJyB61jprNN8S8pZ5LUrUxDvzBLlH--s9EFM7rCHT7uFcC2Yokn-F-PakY_YHsrLVXCCPsHQvyCYqaPeGHITJjSAVLLOaRavxNSriGrLqrUBEApqm7PvMzt5z1UP8s1YH6qCi7HThoIvWMc6RDClMc7l9X9i7HFmHQZHigYo-KFg8cf-4kH5_abfPaFBpb74U6NUPsZLnQ6KZW0LPfXRT4d97F6EdyDB8Ay5C3umWMZDyrE7qkeK5IneHGPawwHAP-xJr5_pHkmncWumpIr90-ss3L-c3f83gx3W6dhoPfHza9jPnIajr4jpRxyigQ\"\n",
    "\n",
    "async with create_client() as client:\n",
    "    vins_df[[\"prodDate\", \"plant\", \"FuelType\", \"FuelTypeEng\"]] = await asyncio.gather(\n",
    "        *(get_info_by_vin(vin, client, token, semaphore) for vin in vins_df[\"Full VIN\"])\n",
    "    )\n",
    "\n",
    "vins_df.head()\n",
    "vins_df.to_csv(\"results.csv\")"
   ]
  },
  {
   "cell_type": "code",
   "execution_count": null,
   "metadata": {},
   "outputs": [],
   "source": [
    "df = pd.read_json(\"results.json\")\n",
    "vins_df = pd.read_excel(\"./search.xlsx\")  # 29750\n",
    "\n",
    "df[\"VIN\"] = vins_df[\"Full VIN\"]\n",
    "df[[\"VIN\", \"prodDate\", \"plant\", \"FuelType\", \"FuelTypeEng\"]].to_csv(\n",
    "    \"results.csv\", index=False\n",
    ")"
   ]
  },
  {
   "cell_type": "code",
   "execution_count": null,
   "metadata": {},
   "outputs": [],
   "source": [
    "data = pd.DataFrame(data)\n",
    "\n",
    "date_obj = pd.to_datetime(data[\"origWarantDate\"], format=\"%d-%b-%Y\")\n",
    "data[\"origWarantDate\"] = date_obj.dt.strftime(\"%d/%m/%Y\")\n",
    "date_obj = pd.to_datetime(data[\"prodDate\"], format=\"%d-%b-%Y\")\n",
    "data[\"prodDate\"] = date_obj.dt.strftime(\"%d/%m/%Y\")"
   ]
  }
 ],
 "metadata": {
  "kernelspec": {
   "display_name": "NHTSA-Pipeline",
   "language": "python",
   "name": "python3"
  },
  "language_info": {
   "codemirror_mode": {
    "name": "ipython",
    "version": 3
   },
   "file_extension": ".py",
   "mimetype": "text/x-python",
   "name": "python",
   "nbconvert_exporter": "python",
   "pygments_lexer": "ipython3",
   "version": "3.10.11"
  }
 },
 "nbformat": 4,
 "nbformat_minor": 2
}
