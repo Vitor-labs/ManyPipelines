{
 "cells": [
  {
   "cell_type": "code",
   "execution_count": 20,
   "metadata": {},
   "outputs": [],
   "source": [
    "import requests\n",
    "import pandas as pd\n",
    "\n",
    "base_url = \"https://www.gsar.ford.com/onlinereports/be/getVehInfoFull\""
   ]
  },
  {
   "cell_type": "code",
   "execution_count": 4,
   "metadata": {},
   "outputs": [],
   "source": [
    "def get_token():\n",
    "    url = \"https://corp.sts.ford.com/adfs/oauth2/authorize/wia\"\n",
    "    params = {\n",
    "        \"client_id\": \"urn:gsar:clientid:web:prod\",\n",
    "        \"response_type\": \"token id_token\",\n",
    "        \"redirect_uri\": \"https://www.gsar.ford.com/onlinereports/oauth-callback&resource=urn:gsar:resource:web:prod&client-request-id=c7dbc22d-90f0-4cf3-eb0e-008006080065&RedirectToIdentityProvider=AD+AUTHORITY\",\n",
    "    }\n",
    "    response = requests.get(url, params=params)\n",
    "    print(response)\n",
    "\n",
    "    return \"\""
   ]
  },
  {
   "cell_type": "code",
   "execution_count": 17,
   "metadata": {},
   "outputs": [],
   "source": [
    "def get_info_by_vin(vin: str, token: str):\n",
    "    response = requests.get(\n",
    "        base_url,\n",
    "        params={\"vin\": vin},\n",
    "        headers={\"Authorization\": f\"Bearer {token}\"},\n",
    "        proxies={\n",
    "            \"http\": \"http://internet.ford.com:83\",\n",
    "            \"https\": \"http://internet.ford.com:83\",\n",
    "        },\n",
    "    )\n",
    "    data = dict(response.json())\n",
    "    print(data)\n",
    "\n",
    "    data_needed = [\"wersVl\", \"origWarantDate\", \"prodDate\", \"plant\", \"globVl\", \"awsVl\"]\n",
    "    filtered = {\"vin\": vin}\n",
    "\n",
    "    for key in data_needed:\n",
    "        if key in data:\n",
    "            filtered.update({key: data.get(key)})  # type: ignore\n",
    "\n",
    "    return filtered"
   ]
  },
  {
   "cell_type": "code",
   "execution_count": null,
   "metadata": {},
   "outputs": [],
   "source": [
    "token = \"eyJ0eXAiOiJKV1QiLCJhbGciOiJSUzI1NiIsIng1dCI6ImFSZ2hZU01kbXI2RFZpMTdWVVJtLUJlUENuayJ9.eyJhdWQiOiJ1cm46Z3NhcjpyZXNvdXJjZTp3ZWI6cHJvZCIsImlzcyI6Imh0dHBzOi8vY29ycC5zdHMuZm9yZC5jb20vYWRmcy9zZXJ2aWNlcy90cnVzdCIsImlhdCI6MTcwODQzNjg0MCwiZXhwIjoxNzA4NDY1NjQwLCJDb21tb25OYW1lIjoiVkRVQVJUMTAiLCJzdWIiOiJWRFVBUlQxMCIsInVpZCI6InZkdWFydDEwIiwiZm9yZEJ1c2luZXNzVW5pdENvZGUiOiJGU0FNUiIsImdpdmVuTmFtZSI6IlZpY3RvciIsInNuIjoiRHVhcnRlIiwiaW5pdGlhbHMiOiJWLiIsIm1haWwiOiJ2ZHVhcnQxMEBmb3JkLmNvbSIsImVtcGxveWVlVHlwZSI6Ik0iLCJzdCI6IkJBIiwiYyI6IkJSQSIsImZvcmRDb21wYW55TmFtZSI6IklOU1QgRVVWQUxETyBMT0RJIE4gUkVHSU9OQUwgQkFISUEiLCJmb3JkRGVwdENvZGUiOiIwNjY0Nzg0MDAwIiwiZm9yZERpc3BsYXlOYW1lIjoiRHVhcnRlLCBWaWN0b3IgKFYuKSIsImZvcmREaXZBYmJyIjoiUFJEIiwiZm9yZERpdmlzaW9uIjoiUEQgT3BlcmF0aW9ucyBhbmQgUXVhbGl0eSIsImZvcmRDb21wYW55Q29kZSI6IjAwMDE1ODM4IiwiZm9yZE1hbmFnZXJDZHNpZCI6Im1tYWdyaTEiLCJmb3JkTVJSb2xlIjoiTiIsImZvcmRTaXRlQ29kZSI6IjY1MzYiLCJmb3JkVXNlclR5cGUiOiJFbXBsb3llZSIsImFwcHR5cGUiOiJQdWJsaWMiLCJhcHBpZCI6InVybjpnc2FyOmNsaWVudGlkOndlYjpwcm9kIiwiYXV0aG1ldGhvZCI6Imh0dHA6Ly9zY2hlbWFzLm1pY3Jvc29mdC5jb20vd3MvMjAwOC8wNi9pZGVudGl0eS9hdXRoZW50aWNhdGlvbm1ldGhvZC93aW5kb3dzIiwiYXV0aF90aW1lIjoiMjAyNC0wMi0yMFQxMzo1MjoyMC41NTZaIiwidmVyIjoiMS4wIn0.VT0eZyH7MWY7ituRUHqIljE84niZShvZohGaqXJmn0CvanN86da2N1gEBb2HS9GN4hZLFV650QMSFgbTF0FyQXxgZeN5brI1pC4Xk8Pj1tcp33e2Q2Nu63orghRzqV1I6L8ozR0AwwUfOhNbOCxs6rwAwg-9j0FqQaQ0HNNVDzkEFyTabEXxM0ZZMOu5boMiZEJIt4bbvb7iHSPKeXlHiCZUG21vf50_CPbSTd13PBiUJZEO-ChjDn8_ZLYkRWBsCbv7pxgc6fr8QLf-nX6wjSKx4jwpfJL1ROyKxsmJcvxySFPFgfpd1Dixn0BCSEtR5AFHeDVcZo_stixUH6kDEA\"\n",
    "vins = [\n",
    "    \"1FTEW1EP2KKE05297\",\n",
    "    \"1FTEW1EG4GFC36898\",\n",
    "    \"1FM5K8D82KGB03988\",\n",
    "    \"1FM5K8HT3GGC10781\",\n",
    "    \"1FMCU9G65LUC23823\",\n",
    "    \"1FTEX1E87HFB35569\",\n",
    "    \"1FM5K7D87FGA44923\",\n",
    "    \"1FT8W3BT5LED29908\",\n",
    "    \"1FM5K8D89HGC48261\",\n",
    "    \"1FMCU9J96HUB88400\",\n",
    "    \"1FMCU9G6XLUB85893\",\n",
    "    \"1FMCU0G65LUA24590\",\n",
    "    \"1FMCU0F6XMUA97800\",\n",
    "    \"1FMCU0G61LUB66399\",\n",
    "    \"1FM5K8D89HGD97382\",\n",
    "    \"1FTEW1EP5JFE15930\",\n",
    "    \"1FM5K7DH8HGC61366\",\n",
    "    \"1FMCU0F64LUC57622\",\n",
    "    \"1FMCU9J97LUA24971\",\n",
    "    \"1FMCU9G69LUA96266\",\n",
    "]\n",
    "data = [get_info_by_vin(vin, token) for vin in vins]"
   ]
  },
  {
   "cell_type": "code",
   "execution_count": null,
   "metadata": {},
   "outputs": [],
   "source": [
    "import datetime\n",
    "\n",
    "data = pd.DataFrame(data)\n",
    "\n",
    "date_obj = pd.to_datetime(data[\"origWarantDate\"], format=\"%d-%b-%Y\")\n",
    "data[\"origWarantDate\"] = date_obj.dt.strftime(\"%d/%m/%Y\")\n",
    "date_obj = pd.to_datetime(data[\"prodDate\"], format=\"%d-%b-%Y\")\n",
    "data[\"prodDate\"] = date_obj.dt.strftime(\"%d/%m/%Y\")"
   ]
  },
  {
   "cell_type": "code",
   "execution_count": 36,
   "metadata": {},
   "outputs": [],
   "source": [
    "data[\"origWarantDate\"].to_clipboard(excel=True)"
   ]
  }
 ],
 "metadata": {
  "kernelspec": {
   "display_name": "NHTSA-Pipeline",
   "language": "python",
   "name": "python3"
  },
  "language_info": {
   "codemirror_mode": {
    "name": "ipython",
    "version": 3
   },
   "file_extension": ".py",
   "mimetype": "text/x-python",
   "name": "python",
   "nbconvert_exporter": "python",
   "pygments_lexer": "ipython3",
   "version": "3.10.11"
  }
 },
 "nbformat": 4,
 "nbformat_minor": 2
}
