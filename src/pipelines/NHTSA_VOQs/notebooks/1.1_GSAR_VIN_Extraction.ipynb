{
 "cells": [
  {
   "cell_type": "code",
   "execution_count": 2,
   "metadata": {},
   "outputs": [],
   "source": [
    "import os\n",
    "import asyncio\n",
    "import httpx\n",
    "import pandas as pd\n",
    "\n",
    "# MADE BY VICTOR DUARTE. VDUART10\n",
    "base_url = \"https://www.gsar.ford.com/onlinereports/be/getVehInfoFull\""
   ]
  },
  {
   "cell_type": "code",
   "execution_count": 11,
   "metadata": {},
   "outputs": [
    {
     "data": {
      "text/plain": [
       "200"
      ]
     },
     "execution_count": 11,
     "metadata": {},
     "output_type": "execute_result"
    }
   ],
   "source": [
    "URL = \"https://corp.sts.ford.com/adfs/oauth2/authorize\"\n",
    "PARAMS = {\n",
    "    \"client_id\": \"urn:gsar:clientid:web:prod\",\n",
    "    \"response_type\": \"token id_token\",\n",
    "    \"redirect_uri\": \"https://www.gsar.ford.com/oauth-callback/\",\n",
    "    \"resource\": \"urn:gsar:resource:web:prod\",\n",
    "    \"client-request-id\": \"7e0748c5-e9d3-4aeb-cd02-0080020000a9\",\n",
    "    \"RedirectToIdentityProvider\": \"AD AUTHORITY\",\n",
    "}\n",
    "DATA = {\n",
    "    \"UserName\": str(os.getenv(\"GSAR_USERNAME\")),\n",
    "    \"Password\": str(os.getenv(\"GSAR_PASSWORD\")),\n",
    "    \"AuthMethod\": \"FormsAuthentication\",\n",
    "}\n",
    "response = httpx.post(URL, params=PARAMS, json=DATA, timeout=50)\n",
    "response.status_code"
   ]
  },
  {
   "cell_type": "code",
   "execution_count": 4,
   "metadata": {},
   "outputs": [],
   "source": [
    "def create_client() -> httpx.AsyncClient:\n",
    "    \"\"\"\n",
    "    Creates a common client for future http requests\n",
    "\n",
    "    Returns:\n",
    "        httpx.Client: client with ford proxies\n",
    "    \"\"\"\n",
    "    limits = httpx.Limits(max_connections=8)\n",
    "    ford_proxy = httpx.Proxy(str(os.getenv(\"FORD_PROXY\")))\n",
    "    timeout_config = httpx.Timeout(10.0, connect=5.0, pool=4.0)\n",
    "    proxy_mounts = {\n",
    "        \"http://\": httpx.AsyncHTTPTransport(proxy=ford_proxy, limits=limits, retries=3),\n",
    "        \"https://\": httpx.AsyncHTTPTransport(\n",
    "            proxy=ford_proxy, limits=limits, retries=3\n",
    "        ),\n",
    "    }\n",
    "    return httpx.AsyncClient(\n",
    "        timeout=timeout_config,\n",
    "        mounts=proxy_mounts,\n",
    "        verify=False,\n",
    "    )"
   ]
  },
  {
   "cell_type": "code",
   "execution_count": 5,
   "metadata": {},
   "outputs": [],
   "source": [
    "async def get_info_by_vin(vin: str, client: httpx.AsyncClient, token: str):\n",
    "    keys = [\"prodDate\", \"wersVl\", \"awsVl\", \"globVl\", \"plant\", \"origWarantDate\"]\n",
    "    retrived = dict.fromkeys(keys, \"\")\n",
    "\n",
    "    if vin and vin[-1] != \"*\" and len(vin) == 17:\n",
    "        response = await client.get(\n",
    "            base_url,\n",
    "            params={\"vin\": vin},\n",
    "            headers={\n",
    "                \"Authorization\": f\"Bearer {token}\",\n",
    "            },\n",
    "        )\n",
    "        data = dict(response.json())\n",
    "        for key in keys:\n",
    "            if key in data:\n",
    "\n",
    "                retrived[key] = str(data.get(key))\n",
    "\n",
    "    return list(retrived.values())\n",
    "\n",
    "\n",
    "async def collect_vins_info(data: pd.DataFrame) -> pd.DataFrame:\n",
    "    token = \"eyJ0eXAiOiJKV1QiLCJhbGciOiJSUzI1NiIsIng1dCI6ImFSZ2hZU01kbXI2RFZpMTdWVVJtLUJlUENuayJ9.eyJhdWQiOiJ1cm46Z3NhcjpyZXNvdXJjZTp3ZWI6cHJvZCIsImlzcyI6Imh0dHBzOi8vY29ycC5zdHMuZm9yZC5jb20vYWRmcy9zZXJ2aWNlcy90cnVzdCIsImlhdCI6MTcwOTczMTI4NCwiZXhwIjoxNzA5NzYwMDg0LCJDb21tb25OYW1lIjoiVkRVQVJUMTAiLCJzdWIiOiJWRFVBUlQxMCIsInVpZCI6InZkdWFydDEwIiwiZm9yZEJ1c2luZXNzVW5pdENvZGUiOiJGU0FNUiIsImdpdmVuTmFtZSI6IlZpY3RvciIsInNuIjoiRHVhcnRlIiwiaW5pdGlhbHMiOiJWLiIsIm1haWwiOiJ2ZHVhcnQxMEBmb3JkLmNvbSIsImVtcGxveWVlVHlwZSI6Ik0iLCJzdCI6IkJBIiwiYyI6IkJSQSIsImZvcmRDb21wYW55TmFtZSI6IklOU1QgRVVWQUxETyBMT0RJIE4gUkVHSU9OQUwgQkFISUEiLCJmb3JkRGVwdENvZGUiOiIwNjY0Nzg0MDAwIiwiZm9yZERpc3BsYXlOYW1lIjoiRHVhcnRlLCBWaWN0b3IgKFYuKSIsImZvcmREaXZBYmJyIjoiUFJEIiwiZm9yZERpdmlzaW9uIjoiUEQgT3BlcmF0aW9ucyBhbmQgUXVhbGl0eSIsImZvcmRDb21wYW55Q29kZSI6IjAwMDE1ODM4IiwiZm9yZE1hbmFnZXJDZHNpZCI6Im1tYWdyaTEiLCJmb3JkTVJSb2xlIjoiTiIsImZvcmRTaXRlQ29kZSI6IjY1MzYiLCJmb3JkVXNlclR5cGUiOiJFbXBsb3llZSIsImFwcHR5cGUiOiJQdWJsaWMiLCJhcHBpZCI6InVybjpnc2FyOmNsaWVudGlkOndlYjpwcm9kIiwiYXV0aG1ldGhvZCI6InVybjpvYXNpczpuYW1lczp0YzpTQU1MOjIuMDphYzpjbGFzc2VzOlBhc3N3b3JkUHJvdGVjdGVkVHJhbnNwb3J0IiwiYXV0aF90aW1lIjoiMjAyNC0wMy0wNlQxMzoyNjoyMy45NzJaIiwidmVyIjoiMS4wIn0.kh7uPNLPrHmPCQ1xEE5tai2qyOCNwiPdmzOYLZUFu0TzgauCWeRKKRFfmcwFErmFFe__NQyu5PrzViTHrZg9grr1KdLV7QxVSXjtLgkJOR0cNmII_PB_vi4qehUbeGHKiCaZW_zqs-V2eNDKAuLVeYdDeMIUw7bweJmL1DL3cpitETMKU3IfZDCf17Hnug_RxsXtwAh5uTtk4AdzQ7xlEAVYkdwAX-kVCcahXhJxIZ2MzXpreVxfDBC8Ej-_2eoXu9l8EFkUr8ykr04WpWIbqmIHO4VKau4nIltZPpqE99iYh24G-tubMuzJQ45hEBlGRozpxO-QhzscrTmdD1G3GA\"\n",
    "    async with create_client() as client:\n",
    "        data[\n",
    "            [\n",
    "                \"PROD_DATE\",\n",
    "                \"VEHICLE_LINE_WERS\",\n",
    "                \"VEHICLE_LINE_GSAR\",\n",
    "                \"VEHICLE_LINE_GLOBAL\",\n",
    "                \"ASSEMBLY_PLANT\",\n",
    "                \"WARRANTY_START_DATE\",\n",
    "            ]\n",
    "        ] = await asyncio.gather(\n",
    "            *(get_info_by_vin(vin, client, token) for vin in data[\"VIN\"])\n",
    "        )\n",
    "    data[\"PROD_DATE\"] = (\n",
    "        pd.to_datetime(data[\"PROD_DATE\"], format=\"%d-%b-%Y\", errors=\"coerce\")\n",
    "        .dt.strftime(\"%m/%d/%Y\")\n",
    "        .replace({\"NaT\": \"\"}, regex=True)\n",
    "    )\n",
    "    data[\"WARRANTY_START_DATE\"] = (\n",
    "        pd.to_datetime(data[\"WARRANTY_START_DATE\"], format=\"%d-%b-%Y\", errors=\"coerce\")\n",
    "        .dt.strftime(\"%m/%d/%Y\")\n",
    "        .replace({\"NaT\": \"\"}, regex=True)\n",
    "    )\n",
    "    return data"
   ]
  },
  {
   "cell_type": "code",
   "execution_count": null,
   "metadata": {},
   "outputs": [],
   "source": [
    "vins_df = pd.read_excel(\n",
    "    \"../../../../data/external/NSCCV-000502-20240304.xlsx\", sheet_name=\"VOQS\"\n",
    ")  # 29750\n",
    "vins_df.dropna(inplace=True)\n",
    "vins_df = vins_df[\n",
    "    ~vins_df[\"VIN\"].str.endswith(\"*\")\n",
    "    & (vins_df[\"VIN\"] != \"\")\n",
    "    & (vins_df[\"VIN\"] != \"N/A\")\n",
    "]\n",
    "vins_df = await collect_vins_info(vins_df)\n",
    "vins_df.head()"
   ]
  }
 ],
 "metadata": {
  "kernelspec": {
   "display_name": "NHTSA-Pipeline",
   "language": "python",
   "name": "python3"
  },
  "language_info": {
   "codemirror_mode": {
    "name": "ipython",
    "version": 3
   },
   "file_extension": ".py",
   "mimetype": "text/x-python",
   "name": "python",
   "nbconvert_exporter": "python",
   "pygments_lexer": "ipython3",
   "version": "3.10.10"
  }
 },
 "nbformat": 4,
 "nbformat_minor": 2
}
