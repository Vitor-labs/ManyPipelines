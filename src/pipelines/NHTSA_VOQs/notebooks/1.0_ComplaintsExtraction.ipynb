{
 "cells": [
  {
   "cell_type": "code",
   "execution_count": 1,
   "metadata": {},
   "outputs": [],
   "source": [
    "import httpx\n",
    "import pandas as pd\n",
    "\n",
    "import os\n",
    "from io import BytesIO\n",
    "from zipfile import ZipFile\n",
    "from datetime import datetime, date"
   ]
  },
  {
   "cell_type": "code",
   "execution_count": 2,
   "metadata": {},
   "outputs": [],
   "source": [
    "URL = \"https://www.nhtsa.gov/nhtsa-datasets-and-apis\"\n",
    "\n",
    "columns = [\n",
    "    \"CMPLID\",\n",
    "    \"ODINO\",\n",
    "    \"MFR_NAME\",\n",
    "    \"MAKETXT\",\n",
    "    \"MODELTXT\",\n",
    "    \"YEARTXT\",\n",
    "    \"CRASH\",\n",
    "    \"FAILDATE\",\n",
    "    \"FIRE\",\n",
    "    \"INJURED\",\n",
    "    \"DEATHS\",\n",
    "    \"COMPDESC\",\n",
    "    \"CITY\",\n",
    "    \"STATE\",\n",
    "    \"VIN\",\n",
    "    \"DATEA\",\n",
    "    \"LDATE\",\n",
    "    \"MILES\",\n",
    "    \"OCCURENCES\",\n",
    "    \"CDESCR\",\n",
    "    \"CMPL_TYPE\",\n",
    "    \"POLICE_RPT_YN\",\n",
    "    \"PURCH_DT\",\n",
    "    \"ORIG_OWER_YN\",\n",
    "    \"ANTI_BRAKES_YN\",\n",
    "    \"CRUISE_CONT_YN\",\n",
    "    \"NUM_CYLS\",\n",
    "    \"DRIVE_TRAIN\",\n",
    "    \"FUEL_SYS\",\n",
    "    \"FUEL_TYPE\",\n",
    "    \"TRASN_TYPE\",\n",
    "    \"VEH_SPEED\",\n",
    "    \"DOT\",\n",
    "    \"TIRE_SIZE\",\n",
    "    \"LOC_OF_TIRE\",\n",
    "    \"TIRE_FAIL_TYPE\",\n",
    "    \"ORIG_EQUIP_YN\",\n",
    "    \"MANUF_DT\",\n",
    "    \"SEAT_TYPE\",\n",
    "    \"RESTRAINT_TYPE\",\n",
    "    \"DEALER_NAME\",\n",
    "    \"DEALER_TEL\",\n",
    "    \"DEALER_CITY\",\n",
    "    \"DEALER_STATE\",\n",
    "    \"DEALER_ZIP\",\n",
    "    \"PROD_TYPE\",\n",
    "    \"REPAIRED_YN\",\n",
    "    \"MEDICAL_ATTN\",\n",
    "    \"VEHICLES_TOWED_YN\",\n",
    "]"
   ]
  },
  {
   "cell_type": "code",
   "execution_count": 6,
   "metadata": {},
   "outputs": [],
   "source": [
    "def create_client() -> httpx.Client:\n",
    "    \"\"\"\n",
    "    Creates a common client for future http requests\n",
    "\n",
    "    Returns:\n",
    "        httpx.Client: client with ford proxies\n",
    "    \"\"\"\n",
    "    ford_proxy = str(os.getenv(\"FORD_PROXY\"))\n",
    "    timeout_config = httpx.Timeout(10.0, connect=5.0)\n",
    "    proxy_mounts = {\n",
    "        \"http://\": httpx.HTTPTransport(proxy=httpx.Proxy(ford_proxy)),\n",
    "        \"https://\": httpx.HTTPTransport(proxy=httpx.Proxy(ford_proxy)),\n",
    "    }\n",
    "    return httpx.Client(\n",
    "        timeout=timeout_config,\n",
    "        mounts=proxy_mounts,\n",
    "        verify=False,\n",
    "    )"
   ]
  },
  {
   "cell_type": "code",
   "execution_count": 4,
   "metadata": {},
   "outputs": [],
   "source": [
    "def mount_dataset_from_content():\n",
    "    with create_client() as client:\n",
    "        resp = client.get(\n",
    "            \"https://static.nhtsa.gov/odi/ffdd/cmpl/COMPLAINTS_RECEIVED_2020-2024.zip\",\n",
    "            timeout=160,\n",
    "        ).content\n",
    "\n",
    "    with ZipFile(BytesIO(resp)) as myzip:\n",
    "        with myzip.open(\"COMPLAINTS_RECEIVED_2020-2024.txt\") as file:\n",
    "            dataset = pd.read_csv(file, sep=\"\\t\", header=None, names=columns)\n",
    "\n",
    "    return dataset"
   ]
  },
  {
   "cell_type": "code",
   "execution_count": null,
   "metadata": {},
   "outputs": [],
   "source": [
    "df = mount_dataset_from_content()\n",
    "df.head()  # out of VPN: 23.7s"
   ]
  },
  {
   "cell_type": "code",
   "execution_count": 9,
   "metadata": {},
   "outputs": [
    {
     "data": {
      "text/plain": [
       "(1293, 49)"
      ]
     },
     "execution_count": 9,
     "metadata": {},
     "output_type": "execute_result"
    }
   ],
   "source": [
    "df.drop_duplicates(subset=[\"ODINO\"], inplace=True)\n",
    "data = df[df[\"ODINO\"] > 11572825]\n",
    "data.shape"
   ]
  },
  {
   "cell_type": "code",
   "execution_count": null,
   "metadata": {},
   "outputs": [],
   "source": [
    "data.to_csv(\"mock_dataset.csv\", index=False)"
   ]
  }
 ],
 "metadata": {
  "kernelspec": {
   "display_name": "SQUAD-Pipelines",
   "language": "python",
   "name": "python3"
  },
  "language_info": {
   "codemirror_mode": {
    "name": "ipython",
    "version": 3
   },
   "file_extension": ".py",
   "mimetype": "text/x-python",
   "name": "python",
   "nbconvert_exporter": "python",
   "pygments_lexer": "ipython3",
   "version": "3.10.11"
  }
 },
 "nbformat": 4,
 "nbformat_minor": 2
}
