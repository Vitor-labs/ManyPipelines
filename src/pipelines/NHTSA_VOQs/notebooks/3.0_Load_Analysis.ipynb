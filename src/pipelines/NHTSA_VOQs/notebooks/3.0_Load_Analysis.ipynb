{
 "cells": [
  {
   "cell_type": "code",
   "execution_count": 13,
   "metadata": {},
   "outputs": [],
   "source": [
    "import pandas as pd\n",
    "from datetime import date"
   ]
  },
  {
   "cell_type": "code",
   "execution_count": 21,
   "metadata": {},
   "outputs": [
    {
     "data": {
      "text/plain": [
       "Index(['ODINO', 'MFR_NAME', 'MAKETXT', 'MODELTXT', 'YEARTXT', 'CRASH',\n",
       "       'FAILDATE', 'FIRE', 'INJURED', 'DEATHS', 'COMPDESC', 'CITY', 'STATE',\n",
       "       'VIN', 'DATEA', 'LDATE', 'MILES', 'OCCURENCES', 'CDESCR', 'CMPL_TYPE',\n",
       "       'POLICE_RPT_YN', 'PURCH_DT', 'ORIG_OWER_YN', 'ANTI_BRAKES_YN',\n",
       "       'CRUISE_CONT_YN', 'NUM_CYLS', 'DRIVE_TRAIN', 'FUEL_SYS', 'FUEL_TYPE',\n",
       "       'TRASN_TYPE', 'VEH_SPEED', 'DOT', 'TIRE_SIZE', 'LOC_OF_TIRE',\n",
       "       'TIRE_FAIL_TYPE', 'ORIG_EQUIP_YN', 'MANUF_DT', 'SEAT_TYPE',\n",
       "       'RESTRAINT_TYPE', 'DEALER_NAME', 'DEALER_TEL', 'DEALER_CITY',\n",
       "       'DEALER_STATE', 'DEALER_ZIP', 'PROD_TYPE', 'REPAIRED_YN',\n",
       "       'MEDICAL_ATTN', 'VEHICLES_TOWED_YN', 'FULL_STATE', 'FAIL_QUARTER',\n",
       "       'FULL_VIN', 'FUNCTION_', 'COMPONET', 'FAILURE', 'BINNING', 'VFG',\n",
       "       'FAILURE_MODE', 'PROD_DATE', 'VEHICLE_LINE_WERS', 'VEHICLE_LINE_GSAR',\n",
       "       'VEHICLE_LINE_GLOBAL', 'ASSEMBLY_PLANT', 'WARRANTY_START_DATE',\n",
       "       'REPAIR_DATE_1', 'REPAIR_DATE_2', 'To_be_Binned', 'NewOld',\n",
       "       'New_Failure_Mode', 'MILEAGE_CLASS', 'EXTRACTED_DATE'],\n",
       "      dtype='object')"
      ]
     },
     "execution_count": 21,
     "metadata": {},
     "output_type": "execute_result"
    }
   ],
   "source": [
    "df = pd.read_csv(\n",
    "    \"../../../../data/processed/NHTSA_COMPLAINTS_PROCESSED_2024-02-27.csv\", index_col=0\n",
    ")\n",
    "df.columns"
   ]
  },
  {
   "cell_type": "code",
   "execution_count": 26,
   "metadata": {},
   "outputs": [
    {
     "data": {
      "text/plain": [
       "VEHICLE_LINE_WERS\n",
       "11-FEB-2019    2\n",
       "22-OCT-2020    1\n",
       "07-JUL-2021    1\n",
       "31-OCT-2020    1\n",
       "30-SEP-2020    1\n",
       "20-FEB-2020    1\n",
       "09-JAN-2021    1\n",
       "03-MAR-2021    1\n",
       "19-MAR-2022    1\n",
       "19-AUG-2020    1\n",
       "04-JAN-2021    1\n",
       "15-SEP-2020    1\n",
       "08-DEC-2020    1\n",
       "11-JAN-2020    1\n",
       "18-NOV-2019    1\n",
       "05-AUG-2011    1\n",
       "25-MAR-2015    1\n",
       "02-APR-2021    1\n",
       "07-MAR-2020    1\n",
       "16-JUL-2020    1\n",
       "06-JUL-2016    1\n",
       "15-APR-2021    1\n",
       "03-MAR-2019    1\n",
       "22-NOV-2019    1\n",
       "18-DEC-2019    1\n",
       "16-FEB-2012    1\n",
       "15-OCT-2020    1\n",
       "23-NOV-2012    1\n",
       "08-SEP-2011    1\n",
       "29-NOV-2018    1\n",
       "30-APR-2021    1\n",
       "02-JUN-2021    1\n",
       "29-SEP-2022    1\n",
       "03-JUL-2014    1\n",
       "25-MAR-2020    1\n",
       "31-OCT-2019    1\n",
       "04-JAN-2020    1\n",
       "05-FEB-2021    1\n",
       "15-AUG-2020    1\n",
       "26-MAR-2021    1\n",
       "25-APR-2020    1\n",
       "15-FEB-2018    1\n",
       "04-DEC-2020    1\n",
       "24-MAR-2021    1\n",
       "19-APR-2017    1\n",
       "19-FEB-2015    1\n",
       "14-MAR-2020    1\n",
       "10-DEC-2016    1\n",
       "08-FEB-2020    1\n",
       "30-NOV-2021    1\n",
       "23-MAR-2016    1\n",
       "02-JUN-2017    1\n",
       "05-MAY-2020    1\n",
       "12-MAY-2020    1\n",
       "13-JUN-2012    1\n",
       "10-JUN-2021    1\n",
       "20-MAR-2020    1\n",
       "28-FEB-2015    1\n",
       "17-APR-2020    1\n",
       "Name: count, dtype: int64"
      ]
     },
     "execution_count": 26,
     "metadata": {},
     "output_type": "execute_result"
    }
   ],
   "source": [
    "df[\"VEHICLE_LINE_WERS\"].value_counts()"
   ]
  },
  {
   "cell_type": "code",
   "execution_count": 29,
   "metadata": {},
   "outputs": [],
   "source": [
    "df[\"VEHICLE_LINE_GSAR\"] = pd.to_datetime(df[\"VEHICLE_LINE_GSAR\"], format=\"%d-%b-%Y\")\n",
    "df[\"VEHICLE_LINE_GSAR\"] = pd.to_datetime(df[\"VEHICLE_LINE_GSAR\"], format=\"%d-%m-%Y\")\n",
    "df[\"VEHICLE_LINE_GSAR\"].to_clipboard(index=False)"
   ]
  },
  {
   "cell_type": "code",
   "execution_count": 18,
   "metadata": {},
   "outputs": [],
   "source": []
  }
 ],
 "metadata": {
  "kernelspec": {
   "display_name": "SQUAD-Pipelines",
   "language": "python",
   "name": "python3"
  },
  "language_info": {
   "codemirror_mode": {
    "name": "ipython",
    "version": 3
   },
   "file_extension": ".py",
   "mimetype": "text/x-python",
   "name": "python",
   "nbconvert_exporter": "python",
   "pygments_lexer": "ipython3",
   "version": "3.10.11"
  }
 },
 "nbformat": 4,
 "nbformat_minor": 2
}
