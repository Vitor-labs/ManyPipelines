{
 "cells": [
  {
   "cell_type": "code",
   "execution_count": 21,
   "metadata": {},
   "outputs": [],
   "source": [
    "import pandas as pd\n",
    "\n",
    "pd.set_option(\"display.max_columns\", None)"
   ]
  },
  {
   "cell_type": "code",
   "execution_count": 3,
   "metadata": {},
   "outputs": [],
   "source": [
    "def load_new_models():\n",
    "    return {\n",
    "        \"ESCAPE HYBRID\": \"ESCAPE\",\n",
    "        \"C-MAX HYBRID\": \"C-MAX\",\n",
    "        \"MILAN HYBRID\": \"MILAN\",\n",
    "        \"EXPLORER SPORT\": \"EXPLORER\",\n",
    "        \"EXPLORER SPORT TRAC\": \"EXPLORER\",\n",
    "        \"FUSION ENERGI\": \"FUSION\",\n",
    "        \"C-MAX ENERGI\": \"C-MAX\",\n",
    "        \"F-250\": \"SUPERDUTY\",\n",
    "        \"F-350\": \"SUPERDUTY\",\n",
    "        \"F-350 SD\": \"SUPERDUTY\",\n",
    "        \"F-450\": \"SUPERDUTY\",\n",
    "        \"F-450 SD\": \"SUPERDUTY\",\n",
    "        \"F-550\": \"SUPERDUTY\",\n",
    "        \"F-550 SD\": \"SUPERDUTY\",\n",
    "        \"SUPERDUTY SD\": \"SUPERDUTY\",\n",
    "        \"F53\": \"F-53\",\n",
    "        \"CORSAIR\": \"CORSAIR / MKC\",\n",
    "        \"MKC\": \"CORSAIR / MKC\",\n",
    "        \"ZEPHYR\": \"ZEPHYR / MKZ\",\n",
    "        \"MKZ\": \"ZEPHYR / MKZ\",\n",
    "        \"NAUTILUS\": \"NAUTILUS / MKX\",\n",
    "        \"MKX\": \"NAUTILUS / MKX\",\n",
    "        \"AVIATOR\": \"AVIATOR / MKT\",\n",
    "        \"MKT\": \"AVIATOR / MKT\",\n",
    "        \"CONTINENTAL\": \"CONTINENTAL / MKS\",\n",
    "        \"MKS\": \"CONTINENTAL / MKS\",\n",
    "        \"E-150\": \"E-SERIES\",\n",
    "        \"E-250\": \"E-SERIES\",\n",
    "        \"E-350\": \"E-SERIES\",\n",
    "        \"E-450\": \"E-SERIES\",\n",
    "        # Include the replacements to correct potential duplicated replacements\n",
    "        \"CORSAIR / CORSAIR / MKC\": \"CORSAIR / MKC\",\n",
    "        \"ZEPHYR / ZEPHYR / MKZ\": \"ZEPHYR / MKZ\",\n",
    "        \"NAUTILUS / NAUTILUS / MKX\": \"NAUTILUS / MKX\",\n",
    "        \"AVIATOR / AVIATOR / MKT\": \"AVIATOR / MKT\",\n",
    "        \"CONTINENTAL / CONTINENTAL / MKS\": \"CONTINENTAL / MKS\",\n",
    "        \"EXPLORER TRAC\": \"EXPLORER\",\n",
    "    }"
   ]
  },
  {
   "cell_type": "code",
   "execution_count": 17,
   "metadata": {},
   "outputs": [
    {
     "data": {
      "text/plain": [
       "0        2024 U725N BRONCO\n",
       "1    2024 CDX707A NAUTILUS\n",
       "Name: MODELTXT, dtype: object"
      ]
     },
     "execution_count": 17,
     "metadata": {},
     "output_type": "execute_result"
    }
   ],
   "source": [
    "data = pd.read_csv(\n",
    "    \"../../../../data/processed/NHTSA_COMPLAINTS_PROCESSED_2024-02-27.csv\", index_col=0\n",
    ")\n",
    "grid = pd.read_csv(\"../../../../data/processed/GRID_PROCESSED_2024-02-27.csv\")\n",
    "grid.rename(\n",
    "    columns={\"Affected Vehicles\": \"MODELTXT\", \"Binning\": \"BINNING\"}, inplace=True\n",
    ")\n",
    "grid[\"MODELTXT\"].replace(load_new_models())"
   ]
  },
  {
   "cell_type": "code",
   "execution_count": 19,
   "metadata": {},
   "outputs": [],
   "source": [
    "merged_df = pd.merge(data, grid, on=[\"MODELTXT\", \"BINNING\"], how=\"left\")"
   ]
  }
 ],
 "metadata": {
  "kernelspec": {
   "display_name": "SQUAD-Pipelines",
   "language": "python",
   "name": "python3"
  },
  "language_info": {
   "codemirror_mode": {
    "name": "ipython",
    "version": 3
   },
   "file_extension": ".py",
   "mimetype": "text/x-python",
   "name": "python",
   "nbconvert_exporter": "python",
   "pygments_lexer": "ipython3",
   "version": "3.10.11"
  }
 },
 "nbformat": 4,
 "nbformat_minor": 2
}
