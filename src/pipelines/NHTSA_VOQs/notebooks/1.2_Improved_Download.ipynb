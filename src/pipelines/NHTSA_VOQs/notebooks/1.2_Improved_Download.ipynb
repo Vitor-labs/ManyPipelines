{
 "cells": [
  {
   "cell_type": "code",
   "execution_count": 1,
   "metadata": {},
   "outputs": [],
   "source": [
    "import os\n",
    "import asyncio\n",
    "from io import BytesIO\n",
    "from typing import Dict\n",
    "from zipfile import ZipFile\n",
    "\n",
    "import httpx\n",
    "import pandas as pd"
   ]
  },
  {
   "cell_type": "code",
   "execution_count": 2,
   "metadata": {},
   "outputs": [],
   "source": [
    "columns = [\n",
    "    \"CMPLID\",\n",
    "    \"ODINO\",\n",
    "    \"MFR_NAME\",\n",
    "    \"MAKETXT\",\n",
    "    \"MODELTXT\",\n",
    "    \"YEARTXT\",\n",
    "    \"CRASH\",\n",
    "    \"FAILDATE\",\n",
    "    \"FIRE\",\n",
    "    \"INJURED\",\n",
    "    \"DEATHS\",\n",
    "    \"COMPDESC\",\n",
    "    \"CITY\",\n",
    "    \"STATE\",\n",
    "    \"VIN\",\n",
    "    \"DATEA\",\n",
    "    \"LDATE\",\n",
    "    \"MILES\",\n",
    "    \"OCCURENCES\",\n",
    "    \"CDESCR\",\n",
    "    \"CMPL_TYPE\",\n",
    "    \"POLICE_RPT_YN\",\n",
    "    \"PURCH_DT\",\n",
    "    \"ORIG_OWER_YN\",\n",
    "    \"ANTI_BRAKES_YN\",\n",
    "    \"CRUISE_CONT_YN\",\n",
    "    \"NUM_CYLS\",\n",
    "    \"DRIVE_TRAIN\",\n",
    "    \"FUEL_SYS\",\n",
    "    \"FUEL_TYPE\",\n",
    "    \"TRASN_TYPE\",\n",
    "    \"VEH_SPEED\",\n",
    "    \"DOT\",\n",
    "    \"TIRE_SIZE\",\n",
    "    \"LOC_OF_TIRE\",\n",
    "    \"TIRE_FAIL_TYPE\",\n",
    "    \"ORIG_EQUIP_YN\",\n",
    "    \"MANUF_DT\",\n",
    "    \"SEAT_TYPE\",\n",
    "    \"RESTRAINT_TYPE\",\n",
    "    \"DEALER_NAME\",\n",
    "    \"DEALER_TEL\",\n",
    "    \"DEALER_CITY\",\n",
    "    \"DEALER_STATE\",\n",
    "    \"DEALER_ZIP\",\n",
    "    \"PROD_TYPE\",\n",
    "    \"REPAIRED_YN\",\n",
    "    \"MEDICAL_ATTN\",\n",
    "    \"VEHICLES_TOWED_YN\",\n",
    "]"
   ]
  },
  {
   "cell_type": "code",
   "execution_count": 6,
   "metadata": {},
   "outputs": [],
   "source": [
    "async def download_zip_file_in_batches(url):\n",
    "    async with httpx.AsyncClient() as client:\n",
    "        # Preliminary request to get the file size\n",
    "        head = await client.head(url)\n",
    "        file_size = int(head.headers[\"Content-Length\"])\n",
    "\n",
    "        print(f\"Total file size: {file_size} bytes\")\n",
    "\n",
    "        batch_size = 1024 * 1024 * 10  # 10 MB per batch\n",
    "        file_bytes = bytearray()\n",
    "\n",
    "        for start in range(0, file_size, batch_size):\n",
    "            end = min(start + batch_size - 1, file_size - 1)\n",
    "            print(f\"Requesting bactch [{start}:{end}] of {file_size}\")\n",
    "            headers = {\"Range\": f\"bytes={start}-{end}\"}\n",
    "            response = await client.get(url, headers=headers)\n",
    "            file_bytes.extend(response.content)\n",
    "\n",
    "    return bytes(file_bytes)\n",
    "\n",
    "\n",
    "async def extract_zip_to_dataframe(zip_bytes):\n",
    "    with BytesIO(zip_bytes) as bytes_io:\n",
    "        with ZipFile(bytes_io, \"r\") as zip_file:\n",
    "            file_name = zip_file.namelist()[0]\n",
    "            with zip_file.open(file_name) as file:\n",
    "                df = pd.read_csv(file)\n",
    "                return df\n",
    "\n",
    "\n",
    "async def download_and_extract_zip(url):\n",
    "    zip_bytes = await download_zip_file_in_batches(url)\n",
    "    df = await extract_zip_to_dataframe(zip_bytes)\n",
    "    return df"
   ]
  },
  {
   "cell_type": "code",
   "execution_count": 7,
   "metadata": {},
   "outputs": [
    {
     "name": "stdout",
     "output_type": "stream",
     "text": [
      "Total file size: 61599925 bytes\n",
      "Requesting bactch [0:10485759] of 61599925\n",
      "Requesting bactch [10485760:20971519] of 61599925\n"
     ]
    },
    {
     "ename": "DecodingError",
     "evalue": "Error -3 while decompressing data: incorrect header check",
     "output_type": "error",
     "traceback": [
      "\u001b[1;31m---------------------------------------------------------------------------\u001b[0m",
      "\u001b[1;31merror\u001b[0m                                     Traceback (most recent call last)",
      "File \u001b[1;32mc:\\Users\\VDUART10\\.virtualenvs\\SQUAD-Pipelines-QG0wCm1u\\lib\\site-packages\\httpx\\_decoders.py:78\u001b[0m, in \u001b[0;36mGZipDecoder.decode\u001b[1;34m(self, data)\u001b[0m\n\u001b[0;32m     77\u001b[0m \u001b[38;5;28;01mtry\u001b[39;00m:\n\u001b[1;32m---> 78\u001b[0m     \u001b[38;5;28;01mreturn\u001b[39;00m \u001b[38;5;28;43mself\u001b[39;49m\u001b[38;5;241;43m.\u001b[39;49m\u001b[43mdecompressor\u001b[49m\u001b[38;5;241;43m.\u001b[39;49m\u001b[43mdecompress\u001b[49m\u001b[43m(\u001b[49m\u001b[43mdata\u001b[49m\u001b[43m)\u001b[49m\n\u001b[0;32m     79\u001b[0m \u001b[38;5;28;01mexcept\u001b[39;00m zlib\u001b[38;5;241m.\u001b[39merror \u001b[38;5;28;01mas\u001b[39;00m exc:\n",
      "\u001b[1;31merror\u001b[0m: Error -3 while decompressing data: incorrect header check",
      "\nThe above exception was the direct cause of the following exception:\n",
      "\u001b[1;31mDecodingError\u001b[0m                             Traceback (most recent call last)",
      "Cell \u001b[1;32mIn[7], line 1\u001b[0m\n\u001b[1;32m----> 1\u001b[0m \u001b[38;5;28;01mawait\u001b[39;00m download_and_extract_zip(\n\u001b[0;32m      2\u001b[0m     \u001b[38;5;124m\"\u001b[39m\u001b[38;5;124mhttps://static.nhtsa.gov/odi/ffdd/cmpl/COMPLAINTS_RECEIVED_2020-2024.zip\u001b[39m\u001b[38;5;124m\"\u001b[39m\n\u001b[0;32m      3\u001b[0m )\n",
      "Cell \u001b[1;32mIn[6], line 32\u001b[0m, in \u001b[0;36mdownload_and_extract_zip\u001b[1;34m(url)\u001b[0m\n\u001b[0;32m     31\u001b[0m \u001b[38;5;28;01masync\u001b[39;00m \u001b[38;5;28;01mdef\u001b[39;00m \u001b[38;5;21mdownload_and_extract_zip\u001b[39m(url):\n\u001b[1;32m---> 32\u001b[0m     zip_bytes \u001b[38;5;241m=\u001b[39m \u001b[38;5;28;01mawait\u001b[39;00m download_zip_file_in_batches(url)\n\u001b[0;32m     33\u001b[0m     df \u001b[38;5;241m=\u001b[39m \u001b[38;5;28;01mawait\u001b[39;00m extract_zip_to_dataframe(zip_bytes)\n\u001b[0;32m     34\u001b[0m     \u001b[38;5;28;01mreturn\u001b[39;00m df\n",
      "Cell \u001b[1;32mIn[6], line 16\u001b[0m, in \u001b[0;36mdownload_zip_file_in_batches\u001b[1;34m(url)\u001b[0m\n\u001b[0;32m     14\u001b[0m         \u001b[38;5;28mprint\u001b[39m(\u001b[38;5;124mf\u001b[39m\u001b[38;5;124m\"\u001b[39m\u001b[38;5;124mRequesting bactch [\u001b[39m\u001b[38;5;132;01m{\u001b[39;00mstart\u001b[38;5;132;01m}\u001b[39;00m\u001b[38;5;124m:\u001b[39m\u001b[38;5;132;01m{\u001b[39;00mend\u001b[38;5;132;01m}\u001b[39;00m\u001b[38;5;124m] of \u001b[39m\u001b[38;5;132;01m{\u001b[39;00mfile_size\u001b[38;5;132;01m}\u001b[39;00m\u001b[38;5;124m\"\u001b[39m)\n\u001b[0;32m     15\u001b[0m         headers \u001b[38;5;241m=\u001b[39m {\u001b[38;5;124m\"\u001b[39m\u001b[38;5;124mRange\u001b[39m\u001b[38;5;124m\"\u001b[39m: \u001b[38;5;124mf\u001b[39m\u001b[38;5;124m\"\u001b[39m\u001b[38;5;124mbytes=\u001b[39m\u001b[38;5;132;01m{\u001b[39;00mstart\u001b[38;5;132;01m}\u001b[39;00m\u001b[38;5;124m-\u001b[39m\u001b[38;5;132;01m{\u001b[39;00mend\u001b[38;5;132;01m}\u001b[39;00m\u001b[38;5;124m\"\u001b[39m}\n\u001b[1;32m---> 16\u001b[0m         response \u001b[38;5;241m=\u001b[39m \u001b[38;5;28;01mawait\u001b[39;00m client\u001b[38;5;241m.\u001b[39mget(url, headers\u001b[38;5;241m=\u001b[39mheaders)\n\u001b[0;32m     17\u001b[0m         file_bytes\u001b[38;5;241m.\u001b[39mextend(response\u001b[38;5;241m.\u001b[39mcontent)\n\u001b[0;32m     19\u001b[0m \u001b[38;5;28;01mreturn\u001b[39;00m \u001b[38;5;28mbytes\u001b[39m(file_bytes)\n",
      "File \u001b[1;32mc:\\Users\\VDUART10\\.virtualenvs\\SQUAD-Pipelines-QG0wCm1u\\lib\\site-packages\\httpx\\_client.py:1801\u001b[0m, in \u001b[0;36mAsyncClient.get\u001b[1;34m(self, url, params, headers, cookies, auth, follow_redirects, timeout, extensions)\u001b[0m\n\u001b[0;32m   1784\u001b[0m \u001b[38;5;28;01masync\u001b[39;00m \u001b[38;5;28;01mdef\u001b[39;00m \u001b[38;5;21mget\u001b[39m(\n\u001b[0;32m   1785\u001b[0m     \u001b[38;5;28mself\u001b[39m,\n\u001b[0;32m   1786\u001b[0m     url: URLTypes,\n\u001b[1;32m   (...)\u001b[0m\n\u001b[0;32m   1794\u001b[0m     extensions: RequestExtensions \u001b[38;5;241m|\u001b[39m \u001b[38;5;28;01mNone\u001b[39;00m \u001b[38;5;241m=\u001b[39m \u001b[38;5;28;01mNone\u001b[39;00m,\n\u001b[0;32m   1795\u001b[0m ) \u001b[38;5;241m-\u001b[39m\u001b[38;5;241m>\u001b[39m Response:\n\u001b[0;32m   1796\u001b[0m \u001b[38;5;250m    \u001b[39m\u001b[38;5;124;03m\"\"\"\u001b[39;00m\n\u001b[0;32m   1797\u001b[0m \u001b[38;5;124;03m    Send a `GET` request.\u001b[39;00m\n\u001b[0;32m   1798\u001b[0m \n\u001b[0;32m   1799\u001b[0m \u001b[38;5;124;03m    **Parameters**: See `httpx.request`.\u001b[39;00m\n\u001b[0;32m   1800\u001b[0m \u001b[38;5;124;03m    \"\"\"\u001b[39;00m\n\u001b[1;32m-> 1801\u001b[0m     \u001b[38;5;28;01mreturn\u001b[39;00m \u001b[38;5;28;01mawait\u001b[39;00m \u001b[38;5;28mself\u001b[39m\u001b[38;5;241m.\u001b[39mrequest(\n\u001b[0;32m   1802\u001b[0m         \u001b[38;5;124m\"\u001b[39m\u001b[38;5;124mGET\u001b[39m\u001b[38;5;124m\"\u001b[39m,\n\u001b[0;32m   1803\u001b[0m         url,\n\u001b[0;32m   1804\u001b[0m         params\u001b[38;5;241m=\u001b[39mparams,\n\u001b[0;32m   1805\u001b[0m         headers\u001b[38;5;241m=\u001b[39mheaders,\n\u001b[0;32m   1806\u001b[0m         cookies\u001b[38;5;241m=\u001b[39mcookies,\n\u001b[0;32m   1807\u001b[0m         auth\u001b[38;5;241m=\u001b[39mauth,\n\u001b[0;32m   1808\u001b[0m         follow_redirects\u001b[38;5;241m=\u001b[39mfollow_redirects,\n\u001b[0;32m   1809\u001b[0m         timeout\u001b[38;5;241m=\u001b[39mtimeout,\n\u001b[0;32m   1810\u001b[0m         extensions\u001b[38;5;241m=\u001b[39mextensions,\n\u001b[0;32m   1811\u001b[0m     )\n",
      "File \u001b[1;32mc:\\Users\\VDUART10\\.virtualenvs\\SQUAD-Pipelines-QG0wCm1u\\lib\\site-packages\\httpx\\_client.py:1574\u001b[0m, in \u001b[0;36mAsyncClient.request\u001b[1;34m(self, method, url, content, data, files, json, params, headers, cookies, auth, follow_redirects, timeout, extensions)\u001b[0m\n\u001b[0;32m   1559\u001b[0m     warnings\u001b[38;5;241m.\u001b[39mwarn(message, \u001b[38;5;167;01mDeprecationWarning\u001b[39;00m)\n\u001b[0;32m   1561\u001b[0m request \u001b[38;5;241m=\u001b[39m \u001b[38;5;28mself\u001b[39m\u001b[38;5;241m.\u001b[39mbuild_request(\n\u001b[0;32m   1562\u001b[0m     method\u001b[38;5;241m=\u001b[39mmethod,\n\u001b[0;32m   1563\u001b[0m     url\u001b[38;5;241m=\u001b[39murl,\n\u001b[1;32m   (...)\u001b[0m\n\u001b[0;32m   1572\u001b[0m     extensions\u001b[38;5;241m=\u001b[39mextensions,\n\u001b[0;32m   1573\u001b[0m )\n\u001b[1;32m-> 1574\u001b[0m \u001b[38;5;28;01mreturn\u001b[39;00m \u001b[38;5;28;01mawait\u001b[39;00m \u001b[38;5;28mself\u001b[39m\u001b[38;5;241m.\u001b[39msend(request, auth\u001b[38;5;241m=\u001b[39mauth, follow_redirects\u001b[38;5;241m=\u001b[39mfollow_redirects)\n",
      "File \u001b[1;32mc:\\Users\\VDUART10\\.virtualenvs\\SQUAD-Pipelines-QG0wCm1u\\lib\\site-packages\\httpx\\_client.py:1675\u001b[0m, in \u001b[0;36mAsyncClient.send\u001b[1;34m(self, request, stream, auth, follow_redirects)\u001b[0m\n\u001b[0;32m   1673\u001b[0m \u001b[38;5;28;01mexcept\u001b[39;00m \u001b[38;5;167;01mBaseException\u001b[39;00m \u001b[38;5;28;01mas\u001b[39;00m exc:\n\u001b[0;32m   1674\u001b[0m     \u001b[38;5;28;01mawait\u001b[39;00m response\u001b[38;5;241m.\u001b[39maclose()\n\u001b[1;32m-> 1675\u001b[0m     \u001b[38;5;28;01mraise\u001b[39;00m exc\n",
      "File \u001b[1;32mc:\\Users\\VDUART10\\.virtualenvs\\SQUAD-Pipelines-QG0wCm1u\\lib\\site-packages\\httpx\\_client.py:1669\u001b[0m, in \u001b[0;36mAsyncClient.send\u001b[1;34m(self, request, stream, auth, follow_redirects)\u001b[0m\n\u001b[0;32m   1667\u001b[0m \u001b[38;5;28;01mtry\u001b[39;00m:\n\u001b[0;32m   1668\u001b[0m     \u001b[38;5;28;01mif\u001b[39;00m \u001b[38;5;129;01mnot\u001b[39;00m stream:\n\u001b[1;32m-> 1669\u001b[0m         \u001b[38;5;28;01mawait\u001b[39;00m response\u001b[38;5;241m.\u001b[39maread()\n\u001b[0;32m   1671\u001b[0m     \u001b[38;5;28;01mreturn\u001b[39;00m response\n\u001b[0;32m   1673\u001b[0m \u001b[38;5;28;01mexcept\u001b[39;00m \u001b[38;5;167;01mBaseException\u001b[39;00m \u001b[38;5;28;01mas\u001b[39;00m exc:\n",
      "File \u001b[1;32mc:\\Users\\VDUART10\\.virtualenvs\\SQUAD-Pipelines-QG0wCm1u\\lib\\site-packages\\httpx\\_models.py:911\u001b[0m, in \u001b[0;36mResponse.aread\u001b[1;34m(self)\u001b[0m\n\u001b[0;32m    907\u001b[0m \u001b[38;5;250m\u001b[39m\u001b[38;5;124;03m\"\"\"\u001b[39;00m\n\u001b[0;32m    908\u001b[0m \u001b[38;5;124;03mRead and return the response content.\u001b[39;00m\n\u001b[0;32m    909\u001b[0m \u001b[38;5;124;03m\"\"\"\u001b[39;00m\n\u001b[0;32m    910\u001b[0m \u001b[38;5;28;01mif\u001b[39;00m \u001b[38;5;129;01mnot\u001b[39;00m \u001b[38;5;28mhasattr\u001b[39m(\u001b[38;5;28mself\u001b[39m, \u001b[38;5;124m\"\u001b[39m\u001b[38;5;124m_content\u001b[39m\u001b[38;5;124m\"\u001b[39m):\n\u001b[1;32m--> 911\u001b[0m     \u001b[38;5;28mself\u001b[39m\u001b[38;5;241m.\u001b[39m_content \u001b[38;5;241m=\u001b[39m \u001b[38;5;124mb\u001b[39m\u001b[38;5;124m\"\u001b[39m\u001b[38;5;124m\"\u001b[39m\u001b[38;5;241m.\u001b[39mjoin([part \u001b[38;5;28;01masync\u001b[39;00m \u001b[38;5;28;01mfor\u001b[39;00m part \u001b[38;5;129;01min\u001b[39;00m \u001b[38;5;28mself\u001b[39m\u001b[38;5;241m.\u001b[39maiter_bytes()])\n\u001b[0;32m    912\u001b[0m \u001b[38;5;28;01mreturn\u001b[39;00m \u001b[38;5;28mself\u001b[39m\u001b[38;5;241m.\u001b[39m_content\n",
      "File \u001b[1;32mc:\\Users\\VDUART10\\.virtualenvs\\SQUAD-Pipelines-QG0wCm1u\\lib\\site-packages\\httpx\\_models.py:911\u001b[0m, in \u001b[0;36m<listcomp>\u001b[1;34m(.0)\u001b[0m\n\u001b[0;32m    907\u001b[0m \u001b[38;5;250m\u001b[39m\u001b[38;5;124;03m\"\"\"\u001b[39;00m\n\u001b[0;32m    908\u001b[0m \u001b[38;5;124;03mRead and return the response content.\u001b[39;00m\n\u001b[0;32m    909\u001b[0m \u001b[38;5;124;03m\"\"\"\u001b[39;00m\n\u001b[0;32m    910\u001b[0m \u001b[38;5;28;01mif\u001b[39;00m \u001b[38;5;129;01mnot\u001b[39;00m \u001b[38;5;28mhasattr\u001b[39m(\u001b[38;5;28mself\u001b[39m, \u001b[38;5;124m\"\u001b[39m\u001b[38;5;124m_content\u001b[39m\u001b[38;5;124m\"\u001b[39m):\n\u001b[1;32m--> 911\u001b[0m     \u001b[38;5;28mself\u001b[39m\u001b[38;5;241m.\u001b[39m_content \u001b[38;5;241m=\u001b[39m \u001b[38;5;124mb\u001b[39m\u001b[38;5;124m\"\u001b[39m\u001b[38;5;124m\"\u001b[39m\u001b[38;5;241m.\u001b[39mjoin([part \u001b[38;5;28;01masync\u001b[39;00m \u001b[38;5;28;01mfor\u001b[39;00m part \u001b[38;5;129;01min\u001b[39;00m \u001b[38;5;28mself\u001b[39m\u001b[38;5;241m.\u001b[39maiter_bytes()])\n\u001b[0;32m    912\u001b[0m \u001b[38;5;28;01mreturn\u001b[39;00m \u001b[38;5;28mself\u001b[39m\u001b[38;5;241m.\u001b[39m_content\n",
      "File \u001b[1;32mc:\\Users\\VDUART10\\.virtualenvs\\SQUAD-Pipelines-QG0wCm1u\\lib\\site-packages\\httpx\\_models.py:930\u001b[0m, in \u001b[0;36mResponse.aiter_bytes\u001b[1;34m(self, chunk_size)\u001b[0m\n\u001b[0;32m    928\u001b[0m \u001b[38;5;28;01mwith\u001b[39;00m request_context(request\u001b[38;5;241m=\u001b[39m\u001b[38;5;28mself\u001b[39m\u001b[38;5;241m.\u001b[39m_request):\n\u001b[0;32m    929\u001b[0m     \u001b[38;5;28;01masync\u001b[39;00m \u001b[38;5;28;01mfor\u001b[39;00m raw_bytes \u001b[38;5;129;01min\u001b[39;00m \u001b[38;5;28mself\u001b[39m\u001b[38;5;241m.\u001b[39maiter_raw():\n\u001b[1;32m--> 930\u001b[0m         decoded \u001b[38;5;241m=\u001b[39m \u001b[43mdecoder\u001b[49m\u001b[38;5;241;43m.\u001b[39;49m\u001b[43mdecode\u001b[49m\u001b[43m(\u001b[49m\u001b[43mraw_bytes\u001b[49m\u001b[43m)\u001b[49m\n\u001b[0;32m    931\u001b[0m         \u001b[38;5;28;01mfor\u001b[39;00m chunk \u001b[38;5;129;01min\u001b[39;00m chunker\u001b[38;5;241m.\u001b[39mdecode(decoded):\n\u001b[0;32m    932\u001b[0m             \u001b[38;5;28;01myield\u001b[39;00m chunk\n",
      "File \u001b[1;32mc:\\Users\\VDUART10\\.virtualenvs\\SQUAD-Pipelines-QG0wCm1u\\lib\\site-packages\\httpx\\_decoders.py:80\u001b[0m, in \u001b[0;36mGZipDecoder.decode\u001b[1;34m(self, data)\u001b[0m\n\u001b[0;32m     78\u001b[0m     \u001b[38;5;28;01mreturn\u001b[39;00m \u001b[38;5;28mself\u001b[39m\u001b[38;5;241m.\u001b[39mdecompressor\u001b[38;5;241m.\u001b[39mdecompress(data)\n\u001b[0;32m     79\u001b[0m \u001b[38;5;28;01mexcept\u001b[39;00m zlib\u001b[38;5;241m.\u001b[39merror \u001b[38;5;28;01mas\u001b[39;00m exc:\n\u001b[1;32m---> 80\u001b[0m     \u001b[38;5;28;01mraise\u001b[39;00m DecodingError(\u001b[38;5;28mstr\u001b[39m(exc)) \u001b[38;5;28;01mfrom\u001b[39;00m \u001b[38;5;21;01mexc\u001b[39;00m\n",
      "\u001b[1;31mDecodingError\u001b[0m: Error -3 while decompressing data: incorrect header check"
     ]
    }
   ],
   "source": [
    "await download_and_extract_zip(\n",
    "    \"https://static.nhtsa.gov/odi/ffdd/cmpl/COMPLAINTS_RECEIVED_2020-2024.zip\"\n",
    ")"
   ]
  }
 ],
 "metadata": {
  "kernelspec": {
   "display_name": "SQUAD-Pipelines-QG0wCm1u",
   "language": "python",
   "name": "python3"
  },
  "language_info": {
   "codemirror_mode": {
    "name": "ipython",
    "version": 3
   },
   "file_extension": ".py",
   "mimetype": "text/x-python",
   "name": "python",
   "nbconvert_exporter": "python",
   "pygments_lexer": "ipython3",
   "version": "3.10.10"
  }
 },
 "nbformat": 4,
 "nbformat_minor": 2
}
