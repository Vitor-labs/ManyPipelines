{
 "cells": [
  {
   "cell_type": "code",
   "execution_count": 12,
   "id": "9b0efb9e",
   "metadata": {},
   "outputs": [],
   "source": [
    "import os\n",
    "from dotenv import load_dotenv, find_dotenv\n",
    "\n",
    "import httpx\n",
    "import pandas as pd\n",
    "\n",
    "load_dotenv(find_dotenv())\n",
    "pd.options.display.max_colwidth = 1500"
   ]
  },
  {
   "cell_type": "code",
   "execution_count": 13,
   "id": "9ebedf56",
   "metadata": {},
   "outputs": [],
   "source": [
    "def get_token():\n",
    "    response = httpx.post(\n",
    "        str(os.getenv(\"TOKEN_ENDPOINT\")),\n",
    "        data={\n",
    "            \"client_id\": str(os.getenv(\"CLIENT_ID\")),\n",
    "            \"client_secret\": str(os.getenv(\"CLIENT_SECRET\")),\n",
    "            \"scope\": str(os.getenv(\"SCOPE\")),\n",
    "            \"grant_type\": \"client_credentials\",\n",
    "        },\n",
    "        proxies={\n",
    "            \"http://\": httpx.Proxy(str(os.getenv(\"FORD_PROXY\"))),\n",
    "            \"https://\": httpx.Proxy(str(os.getenv(\"FORD_PROXY\"))),\n",
    "        },\n",
    "        timeout=160,\n",
    "    )\n",
    "    print(\n",
    "        \"token expires in:\",\n",
    "        round(int(response.json()[\"expires_in\"]) / 60, 0),\n",
    "        \"minutes\",\n",
    "    )\n",
    "    return response.json()[\"access_token\"]"
   ]
  },
  {
   "cell_type": "code",
   "execution_count": 14,
   "id": "a5a45978",
   "metadata": {},
   "outputs": [],
   "source": [
    "def call_api_movement(prompt: str, token: str):\n",
    "    content = {\n",
    "        \"model\": \"gpt-4\",\n",
    "        \"context\": \"Analyse this complaint and answer this following question\",  # sets the overall behavior of the assistant.\n",
    "        \"messages\": [\n",
    "            {\n",
    "                \"role\": \"user\",\n",
    "                \"content\": prompt,\n",
    "            }\n",
    "        ],\n",
    "        \"parameters\": {\n",
    "            \"temperature\": 0.05,  # Determines the randomnes of the model's response.\n",
    "        },\n",
    "    }\n",
    "    try:\n",
    "        response = httpx.post(\n",
    "            str(os.getenv(\"API_ENDPOINT\")),\n",
    "            headers={\"Authorization\": f\"Bearer {token}\"},\n",
    "            json=content,\n",
    "            timeout=20,\n",
    "        )\n",
    "        message = response.json()[\"content\"]\n",
    "        print(message)\n",
    "        if \"\\n\" in message:\n",
    "            message = message.split(\"\\n\")[0]\n",
    "\n",
    "        return message\n",
    "\n",
    "    except httpx.HTTPError as exc:\n",
    "        print(exc)"
   ]
  },
  {
   "cell_type": "markdown",
   "id": "4c8ca19c",
   "metadata": {},
   "source": [
    "### DO YOUR ANALYSIS BEYOND THIS COMMENT "
   ]
  },
  {
   "cell_type": "code",
   "execution_count": 15,
   "id": "9388f3f3",
   "metadata": {},
   "outputs": [],
   "source": [
    "df = pd.read_csv(\"../../../../data/raw/recalls_mock.csv\")\n",
    "df[\"to be binned\"] = (\n",
    "    f'With this problematic component {str(df[\"COMPONENT\"])} '\n",
    "    + f'and this decription: {str(df[\"RECALL_DESCRIPTION\"])}.'\n",
    ")"
   ]
  },
  {
   "cell_type": "code",
   "execution_count": 17,
   "id": "144518f6",
   "metadata": {},
   "outputs": [
    {
     "ename": "ImportError",
     "evalue": "attempted relative import with no known parent package",
     "output_type": "error",
     "traceback": [
      "\u001b[1;31m---------------------------------------------------------------------------\u001b[0m",
      "\u001b[1;31mImportError\u001b[0m                               Traceback (most recent call last)",
      "Cell \u001b[1;32mIn[17], line 1\u001b[0m\n\u001b[1;32m----> 1\u001b[0m \u001b[38;5;28;01mfrom\u001b[39;00m \u001b[38;5;21;01m.\u001b[39;00m\u001b[38;5;21;01m.\u001b[39;00m\u001b[38;5;21;01m.\u001b[39;00m\u001b[38;5;21;01m.\u001b[39;00m\u001b[38;5;21;01mutils\u001b[39;00m\u001b[38;5;21;01m.\u001b[39;00m\u001b[38;5;21;01mfuntions\u001b[39;00m \u001b[38;5;28;01mimport\u001b[39;00m load_categories\n\u001b[0;32m      4\u001b[0m token \u001b[38;5;241m=\u001b[39m get_token()\n\u001b[0;32m      5\u001b[0m parts \u001b[38;5;241m=\u001b[39m (\n\u001b[0;32m      6\u001b[0m     \u001b[38;5;124m\"\u001b[39m\u001b[38;5;124mdoor, window, windshield, wiper, glass, hood, trunk, moonroof, \u001b[39m\u001b[38;5;124m\"\u001b[39m\n\u001b[0;32m      7\u001b[0m     \u001b[38;5;241m+\u001b[39m \u001b[38;5;124m\"\u001b[39m\u001b[38;5;124mbumper, tail light, pillar, undershield, roof rack, latch, he\u001b[39m\u001b[38;5;124m\"\u001b[39m\n\u001b[1;32m   (...)\u001b[0m\n\u001b[0;32m     10\u001b[0m     \u001b[38;5;241m+\u001b[39m \u001b[38;5;124m\"\u001b[39m\u001b[38;5;124md plate, sheet metal, running boards, water leak, etc\u001b[39m\u001b[38;5;124m\"\u001b[39m\n\u001b[0;32m     11\u001b[0m )\n",
      "\u001b[1;31mImportError\u001b[0m: attempted relative import with no known parent package"
     ]
    }
   ],
   "source": [
    "from ....utils.funtions import load_categories\n",
    "\n",
    "\n",
    "token = get_token()\n",
    "parts = (\n",
    "    \"door, window, windshield, wiper, glass, hood, trunk, moonroof, \"\n",
    "    + \"bumper, tail light, pillar, undershield, roof rack, latch, he\"\n",
    "    + \"adlight, door handle, door keypad, window, weatherstripping, \"\n",
    "    + \"side mirror, lighting, swing gate, cowl grille, hard top, ski\"\n",
    "    + \"d plate, sheet metal, running boards, water leak, etc\"\n",
    ")\n",
    "classes = list(load_categories(\"Failures\"))\n",
    "content = (\n",
    "    \"Question 1: For this description, check if it's related to an e\"\n",
    "    + f\"xternal part of the car, body exterior, ({parts}). If yes, a\"\n",
    "    + \"nswer 'F8'. IF not, answer 'NOT F8'. Note that most of the pr\"\n",
    "    + \"oblems related to power liftgate electrical problems and rear\"\n",
    "    + \" view camera are NOT F8. Question 2: For each of these senten\"\n",
    "    + \"ces that your answer 1 was 'F8', check if it is related to on\"\n",
    "    + f\"ly one of the following categories: {classes}. You should gi\"\n",
    "    + \"ve only one answer with one answer for Question 1 and one ans\"\n",
    "    + \"2er for Question 2 in the following format: 'ANSWER 1~~~ANSWE\"\n",
    "    + \"R 2'. Note: 'OWD' means 'opened while driving' and 'F&F' mean\"\n",
    "    + \"s 'fit and finish', for problems related to flushness and mar\"\n",
    "    + \"gin. Note 2: For model Escape (2020 forward), there is a comm\"\n",
    "    + \"on problem related to door check arm when the decription is r\"\n",
    "    + \"elated to the door making popping sounds, opening and closing\"\n",
    "    + \" problens, hinges and welds. If you cannot relate, answer NOT\"\n",
    "    + \" SURE. Answer in the correct order. If you cannot assist, ans\"\n",
    "    + \"wer 1, and answer 2 must be NA. You should be objective and c\"\n",
    "    + \"old. Never change the answer format mentioned.\"\n",
    ")\n",
    "df[[\"FUNCTION_\", \"COMPONENT\", \"FAILURE\"]] = (\n",
    "    df[\"to be binned\"]\n",
    "    .apply(lambda row: call_api_movement(f\"{row} {content}\", token))\n",
    "    .to_list()\n",
    ")\n",
    "df[df[\"filter\"] == \"YES\"].to_csv(\"Result.csv\")"
   ]
  }
 ],
 "metadata": {
  "kernelspec": {
   "display_name": "Python 3",
   "language": "python",
   "name": "python3"
  },
  "language_info": {
   "codemirror_mode": {
    "name": "ipython",
    "version": 3
   },
   "file_extension": ".py",
   "mimetype": "text/x-python",
   "name": "python",
   "nbconvert_exporter": "python",
   "pygments_lexer": "ipython3",
   "version": "3.10.10"
  }
 },
 "nbformat": 4,
 "nbformat_minor": 5
}
