{
 "cells": [
  {
   "cell_type": "code",
   "execution_count": 5,
   "metadata": {},
   "outputs": [],
   "source": [
    "import pandas as pd\n",
    "\n",
    "pd.set_option(\"display.max_columns\", None)\n",
    "\n",
    "DF_FMD = pd.read_csv(\"./WarrantyFMD_sample.csv\")\n",
    "DF_GSAR = pd.read_csv(\"./WarrantyGSAR_sample.csv\")"
   ]
  },
  {
   "cell_type": "code",
   "execution_count": 12,
   "metadata": {},
   "outputs": [
    {
     "name": "stdout",
     "output_type": "stream",
     "text": [
      "65 ['Status', 'Claim', 'Failure Mode', 'Suspect Failure Mode', 'Claim_Type', 'DTCs', 'Odo', 'Claim_Date', 'Repair', 'Veh_Build', 'My', 'MY_Fixed', 'Vehicle', 'Pack', 'Causal_Base', 'Mat_Cost', 'Tot_Cost', 'Pack_SN', 'ECB Bin', 'Created', 'Modified', 'Replaced_Parts', 'Tech_Comm', 'Cust_Comm', 'Compliance Asset Id', 'Dealer', 'Causal_Prefix', 'Causal_Suffix', 'CCC', 'Cond_Code', 'Region', 'State', 'Country', 'Notes', 'AWS_maintenance_date', 'Alias', 'Claim_Stat', 'ECB', 'Pack Build', 'Count Related Comp', '$>2.5K', 'T50$', 'T50#', 'ECB Comments', '$>2500 Status', 'T50$ Stat', 'T50# Status', 'Cust_Impact', 'Match_Exempt', 'Primary_DTCs', 'ECB_Exception', 'ID_Del', 'sys_export', 'ID', 'Content Type', 'Created By', 'Modified By', 'Attachments', 'Item Child Count', 'Folder Child Count', 'Label setting', 'Retention label', 'Retention label Applied', 'Label applied by', 'Item is a Record'] \n",
      " 49 ['Model Year', 'Model Year (Fixed)', 'Model Year (Sales)', 'Model Year (Manufacturing)', 'Claim Key', 'Vehicle Line Global', 'Vehicle Line Global Desc', 'Vehicle Line WERS [VL]', 'Market Derived [MD]', 'Body/Cab Type [BS/CA]', 'Version/Series [VS/SE]', 'Drive Type [DR]', 'Engine [EN]', 'Transmission [TR]', 'Assembly Plant [AAG]', 'Production Date', 'Warranty Start Date', 'Repair Dealer Name', 'Document Number', 'Repair Dealer Phone Num', 'Customer Concern Code', 'Condition Code', 'Load Date', 'Repair Date', 'Mileage', 'Material Cost', 'Labor Cost', 'Total Cost Gross', 'Labor Hours', 'Repair Dealer Code', 'Repair Dealer Sub Code', 'Region Repaired', 'Repair Dealer State', 'Technician Comments', 'Customer Comments', 'Repair Dealer Area Code', 'Country Repaired', 'Sell Dealer Code', 'Transaction Code', 'Country Sold', 'Vehicle Line AWS', 'Part Num Prefix (Causal)', 'Part Num Base (Causal)', 'Part Num Suffix (Causal)', 'Part Num Base Desc (Causal)', 'Propulsion Type', 'Propulsion Type Desc', 'QB Global Sub Groups', 'QB Global Sub Groups Desc'] \n",
      " 4 ['VIN', 'TIS', 'WCC', 'VFG']\n"
     ]
    }
   ],
   "source": [
    "diffs_fmd = [x for x in DF_FMD.columns if x not in DF_GSAR.columns]\n",
    "diffs_wers = [y for y in DF_GSAR.columns if y not in DF_FMD.columns]\n",
    "equals_in = [z for z in DF_FMD.columns if z in DF_GSAR.columns]\n",
    "\n",
    "print(len(diffs_fmd), diffs_fmd, '\\n', len(diffs_wers), diffs_wers, '\\n', len(equals_in), equals_in)"
   ]
  },
  {
   "cell_type": "code",
   "execution_count": null,
   "metadata": {},
   "outputs": [],
   "source": []
  }
 ],
 "metadata": {
  "kernelspec": {
   "display_name": "SQUAD-Pipelines-QG0wCm1u",
   "language": "python",
   "name": "python3"
  },
  "language_info": {
   "codemirror_mode": {
    "name": "ipython",
    "version": 3
   },
   "file_extension": ".py",
   "mimetype": "text/x-python",
   "name": "python",
   "nbconvert_exporter": "python",
   "pygments_lexer": "ipython3",
   "version": "3.10.10"
  }
 },
 "nbformat": 4,
 "nbformat_minor": 2
}
