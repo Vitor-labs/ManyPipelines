{
 "cells": [
  {
   "cell_type": "code",
   "execution_count": 112,
   "metadata": {},
   "outputs": [],
   "source": [
    "from typing import List\n",
    "import pandas as pd\n",
    "\n",
    "\n",
    "pd.set_option(\"display.max_columns\", None)\n",
    "PATH = \"C:/Users/VDUART10/azureford/CCM SA Team - GRID Issue Mgmt/GRID_Last_Update.xlsm\""
   ]
  },
  {
   "cell_type": "code",
   "execution_count": 2,
   "metadata": {},
   "outputs": [],
   "source": [
    "df = pd.read_excel(PATH, sheet_name=\"Data\", dtype=str)\n",
    "\n",
    "data = df[\n",
    "    (df[\"Function\"].isin([\"F8\", \"f8\"]))\n",
    "    & (df[\"Lead Region\"] == \"NA - North America\")\n",
    "    & (df[\"Issue #\"].str.startswith(\"24-\"))\n",
    "]"
   ]
  },
  {
   "cell_type": "code",
   "execution_count": 113,
   "metadata": {},
   "outputs": [],
   "source": [
    "def verify_new_issues(data: pd.DataFrame) -> List | None:\n",
    "    if data[\"Issue #\"].iloc[0] != \"24-124\":\n",
    "        print(\"New Issue Found\")\n",
    "        new_issues = []\n",
    "        for _, row in data.iterrows():\n",
    "            if row[\"Issue #\"] != \"24-100\":\n",
    "                new_issues.append(\n",
    "                    row[\n",
    "                        [\n",
    "                            \"Issue #\",\n",
    "                            \"Issue Title\",\n",
    "                            \"Description\",\n",
    "                            \"Affected Vehicles\",\n",
    "                        ]\n",
    "                    ].to_dict()\n",
    "                )\n",
    "            else:\n",
    "                break\n",
    "\n",
    "        return new_issues"
   ]
  },
  {
   "cell_type": "code",
   "execution_count": 114,
   "metadata": {},
   "outputs": [
    {
     "name": "stdout",
     "output_type": "stream",
     "text": [
      "New Issue Found\n"
     ]
    },
    {
     "data": {
      "text/plain": [
       "[{'Issue #': '24-141',\n",
       "  'Issue Title': 'Glass Improper Adhesion - Heritage Series Rear Quarter Glass',\n",
       "  'Description': 'The 5 Door Bronco Heritage for rear quarter glass adhesion issue. There are 4 claims so far with the glass peeling/ hanging off due to this. The suspected root cause is that Vitro used the wrong adhesive mixture. \\n',\n",
       "  'Affected Vehicles': '2024 U725N BRONCO'},\n",
       " {'Issue #': '24-124',\n",
       "  'Issue Title': 'Nautilus Moisture in Tail & Stop & Turn Lamp',\n",
       "  'Description': 'SSM requested for body mounted and deck lamp moisture.',\n",
       "  'Affected Vehicles': '2024 CDX707A NAUTILUS'}]"
      ]
     },
     "execution_count": 114,
     "metadata": {},
     "output_type": "execute_result"
    }
   ],
   "source": [
    "verify_new_issues(data.reset_index())"
   ]
  },
  {
   "cell_type": "code",
   "execution_count": null,
   "metadata": {},
   "outputs": [],
   "source": [
    "grid_data = pd.read_excel(\n",
    "    \"../../../../data/external/GRID_Data.xlsm\", sheet_name=\"Map\", dtype=str\n",
    ")"
   ]
  }
 ],
 "metadata": {
  "kernelspec": {
   "display_name": "SQUAD-Pipelines",
   "language": "python",
   "name": "python3"
  },
  "language_info": {
   "codemirror_mode": {
    "name": "ipython",
    "version": 3
   },
   "file_extension": ".py",
   "mimetype": "text/x-python",
   "name": "python",
   "nbconvert_exporter": "python",
   "pygments_lexer": "ipython3",
   "version": "3.10.11"
  }
 },
 "nbformat": 4,
 "nbformat_minor": 2
}
