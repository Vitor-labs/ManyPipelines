{
 "cells": [
  {
   "cell_type": "code",
   "execution_count": 1,
   "metadata": {},
   "outputs": [],
   "source": [
    "from typing import List\n",
    "import pandas as pd\n",
    "\n",
    "\n",
    "pd.set_option(\"display.max_columns\", None)\n",
    "PATH = \"C:/Users/VDUART10/azureford/CCM SA Team - GRID Issue Mgmt/GRID_Last_Update.xlsm\""
   ]
  },
  {
   "cell_type": "code",
   "execution_count": 2,
   "metadata": {},
   "outputs": [],
   "source": [
    "df = pd.read_excel(PATH, sheet_name=\"Data\", dtype=str)\n",
    "\n",
    "data = df[\n",
    "    (df[\"Function\"].isin([\"F8\", \"f8\"]))\n",
    "    & (df[\"Lead Region\"] == \"NA - North America\")\n",
    "    & (df[\"Issue #\"].str.startswith(\"24-\"))\n",
    "]"
   ]
  },
  {
   "cell_type": "code",
   "execution_count": 3,
   "metadata": {},
   "outputs": [],
   "source": [
    "def verify_new_issues(data: pd.DataFrame) -> List | None:\n",
    "    if data[\"Issue #\"].iloc[0] != \"24-124\":\n",
    "        print(\"New Issue Found\")\n",
    "        new_issues = []\n",
    "        for _, row in data.iterrows():\n",
    "            if row[\"Issue #\"] != \"24-100\":\n",
    "                new_issues.append(\n",
    "                    row[\n",
    "                        [\n",
    "                            \"Function\",\n",
    "                            \"Issue #\",\n",
    "                            \"Issue Title\",\n",
    "                            \"Description\",\n",
    "                            \"Affected Vehicles\",\n",
    "                            \"Days Open in CCRG\",\n",
    "                            \"Days Open in CSF\",\n",
    "                            \"Days Open in GOV\",\n",
    "                            \"Days Open in EPRC\",\n",
    "                            \"Field Service Action #\",\n",
    "                            \"Overall Status\",\n",
    "                            \"GRID creation date\",\n",
    "                        ]\n",
    "                    ].to_dict()\n",
    "                )\n",
    "            else:\n",
    "                break\n",
    "\n",
    "        return new_issues"
   ]
  },
  {
   "cell_type": "code",
   "execution_count": 4,
   "metadata": {},
   "outputs": [
    {
     "name": "stdout",
     "output_type": "stream",
     "text": [
      "New Issue Found\n"
     ]
    },
    {
     "data": {
      "text/html": [
       "<div>\n",
       "<style scoped>\n",
       "    .dataframe tbody tr th:only-of-type {\n",
       "        vertical-align: middle;\n",
       "    }\n",
       "\n",
       "    .dataframe tbody tr th {\n",
       "        vertical-align: top;\n",
       "    }\n",
       "\n",
       "    .dataframe thead th {\n",
       "        text-align: right;\n",
       "    }\n",
       "</style>\n",
       "<table border=\"1\" class=\"dataframe\">\n",
       "  <thead>\n",
       "    <tr style=\"text-align: right;\">\n",
       "      <th></th>\n",
       "      <th>Function</th>\n",
       "      <th>Issue #</th>\n",
       "      <th>Issue Title</th>\n",
       "      <th>Description</th>\n",
       "      <th>Affected Vehicles</th>\n",
       "      <th>Days Open in CCRG</th>\n",
       "      <th>Days Open in CSF</th>\n",
       "      <th>Days Open in GOV</th>\n",
       "      <th>Days Open in EPRC</th>\n",
       "      <th>Field Service Action #</th>\n",
       "      <th>Overall Status</th>\n",
       "      <th>GRID creation date</th>\n",
       "    </tr>\n",
       "  </thead>\n",
       "  <tbody>\n",
       "    <tr>\n",
       "      <th>0</th>\n",
       "      <td>F8</td>\n",
       "      <td>24-141</td>\n",
       "      <td>Glass Improper Adhesion - Heritage Series Rear...</td>\n",
       "      <td>The 5 Door Bronco Heritage for rear quarter gl...</td>\n",
       "      <td>2024 U725N BRONCO</td>\n",
       "      <td>0</td>\n",
       "      <td>NaN</td>\n",
       "      <td>NaN</td>\n",
       "      <td>NaN</td>\n",
       "      <td>NaN</td>\n",
       "      <td>Active CCRG</td>\n",
       "      <td>2024-02-20 00:00:00</td>\n",
       "    </tr>\n",
       "    <tr>\n",
       "      <th>1</th>\n",
       "      <td>F8</td>\n",
       "      <td>24-124</td>\n",
       "      <td>Nautilus Moisture in Tail &amp; Stop &amp; Turn Lamp</td>\n",
       "      <td>SSM requested for body mounted and deck lamp m...</td>\n",
       "      <td>2024 CDX707A NAUTILUS</td>\n",
       "      <td>8</td>\n",
       "      <td>NaN</td>\n",
       "      <td>NaN</td>\n",
       "      <td>NaN</td>\n",
       "      <td>NaN</td>\n",
       "      <td>Active CCRG</td>\n",
       "      <td>2024-02-13 00:00:00</td>\n",
       "    </tr>\n",
       "  </tbody>\n",
       "</table>\n",
       "</div>"
      ],
      "text/plain": [
       "  Function Issue #                                        Issue Title  \\\n",
       "0       F8  24-141  Glass Improper Adhesion - Heritage Series Rear...   \n",
       "1       F8  24-124       Nautilus Moisture in Tail & Stop & Turn Lamp   \n",
       "\n",
       "                                         Description      Affected Vehicles  \\\n",
       "0  The 5 Door Bronco Heritage for rear quarter gl...      2024 U725N BRONCO   \n",
       "1  SSM requested for body mounted and deck lamp m...  2024 CDX707A NAUTILUS   \n",
       "\n",
       "  Days Open in CCRG  Days Open in CSF  Days Open in GOV  Days Open in EPRC  \\\n",
       "0                 0               NaN               NaN                NaN   \n",
       "1                 8               NaN               NaN                NaN   \n",
       "\n",
       "   Field Service Action # Overall Status   GRID creation date  \n",
       "0                     NaN    Active CCRG  2024-02-20 00:00:00  \n",
       "1                     NaN    Active CCRG  2024-02-13 00:00:00  "
      ]
     },
     "execution_count": 4,
     "metadata": {},
     "output_type": "execute_result"
    }
   ],
   "source": [
    "data = pd.DataFrame(verify_new_issues(data.reset_index()))\n",
    "data.to_csv(\"extracted.csv\")\n",
    "data.head()"
   ]
  }
 ],
 "metadata": {
  "kernelspec": {
   "display_name": "SQUAD-Pipelines",
   "language": "python",
   "name": "python3"
  },
  "language_info": {
   "codemirror_mode": {
    "name": "ipython",
    "version": 3
   },
   "file_extension": ".py",
   "mimetype": "text/x-python",
   "name": "python",
   "nbconvert_exporter": "python",
   "pygments_lexer": "ipython3",
   "version": "3.10.11"
  }
 },
 "nbformat": 4,
 "nbformat_minor": 2
}
